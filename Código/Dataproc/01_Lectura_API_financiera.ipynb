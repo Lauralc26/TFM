{
 "cells": [
  {
   "cell_type": "code",
   "execution_count": 1,
   "metadata": {
    "id": "Omk6kJLdiIWu"
   },
   "outputs": [],
   "source": [
    "fec_min = \"2000-01-01\"\n",
    "fec_max = \"2025-02-01\""
   ]
  },
  {
   "cell_type": "markdown",
   "metadata": {
    "id": "RgGfqtWn7Mod"
   },
   "source": [
    "# Configuración spark"
   ]
  },
  {
   "cell_type": "code",
   "execution_count": 2,
   "metadata": {
    "id": "5ocqaeMOqQgR"
   },
   "outputs": [],
   "source": [
    "path_datos = \"gs://bucket-tfm-llc/datos\""
   ]
  },
  {
   "cell_type": "markdown",
   "metadata": {
    "id": "kTGiILJparsM"
   },
   "source": [
    "# Librerias"
   ]
  },
  {
   "cell_type": "code",
   "execution_count": 3,
   "metadata": {
    "colab": {
     "base_uri": "https://localhost:8080/"
    },
    "executionInfo": {
     "elapsed": 3610,
     "status": "ok",
     "timestamp": 1748167936367,
     "user": {
      "displayName": "Laura Lozano",
      "userId": "03845009722760732187"
     },
     "user_tz": -120
    },
    "id": "yo-bukwG-JXF",
    "outputId": "893fbd52-8112-4e1b-d582-c4ce80d98268",
    "tags": []
   },
   "outputs": [
    {
     "name": "stdout",
     "output_type": "stream",
     "text": [
      "Requirement already satisfied: alpha_vantage in /opt/conda/miniconda3/lib/python3.10/site-packages (3.0.0)\n",
      "Requirement already satisfied: aiohttp in /opt/conda/miniconda3/lib/python3.10/site-packages (from alpha_vantage) (3.11.18)\n",
      "Requirement already satisfied: requests in /opt/conda/miniconda3/lib/python3.10/site-packages (from alpha_vantage) (2.28.2)\n",
      "Requirement already satisfied: aiohappyeyeballs>=2.3.0 in /opt/conda/miniconda3/lib/python3.10/site-packages (from aiohttp->alpha_vantage) (2.6.1)\n",
      "Requirement already satisfied: aiosignal>=1.1.2 in /opt/conda/miniconda3/lib/python3.10/site-packages (from aiohttp->alpha_vantage) (1.3.2)\n",
      "Requirement already satisfied: async-timeout<6.0,>=4.0 in /opt/conda/miniconda3/lib/python3.10/site-packages (from aiohttp->alpha_vantage) (5.0.1)\n",
      "Requirement already satisfied: attrs>=17.3.0 in /opt/conda/miniconda3/lib/python3.10/site-packages (from aiohttp->alpha_vantage) (25.3.0)\n",
      "Requirement already satisfied: frozenlist>=1.1.1 in /opt/conda/miniconda3/lib/python3.10/site-packages (from aiohttp->alpha_vantage) (1.6.0)\n",
      "Requirement already satisfied: multidict<7.0,>=4.5 in /opt/conda/miniconda3/lib/python3.10/site-packages (from aiohttp->alpha_vantage) (6.4.4)\n",
      "Requirement already satisfied: propcache>=0.2.0 in /opt/conda/miniconda3/lib/python3.10/site-packages (from aiohttp->alpha_vantage) (0.3.1)\n",
      "Requirement already satisfied: yarl<2.0,>=1.17.0 in /opt/conda/miniconda3/lib/python3.10/site-packages (from aiohttp->alpha_vantage) (1.20.0)\n",
      "Requirement already satisfied: typing-extensions>=4.1.0 in /opt/conda/miniconda3/lib/python3.10/site-packages (from multidict<7.0,>=4.5->aiohttp->alpha_vantage) (4.13.2)\n",
      "Requirement already satisfied: idna>=2.0 in /opt/conda/miniconda3/lib/python3.10/site-packages (from yarl<2.0,>=1.17.0->aiohttp->alpha_vantage) (3.10)\n",
      "Requirement already satisfied: charset-normalizer<4,>=2 in /opt/conda/miniconda3/lib/python3.10/site-packages (from requests->alpha_vantage) (3.4.2)\n",
      "Requirement already satisfied: urllib3<1.27,>=1.21.1 in /opt/conda/miniconda3/lib/python3.10/site-packages (from requests->alpha_vantage) (1.26.19)\n",
      "Requirement already satisfied: certifi>=2017.4.17 in /opt/conda/miniconda3/lib/python3.10/site-packages (from requests->alpha_vantage) (2025.4.26)\n",
      "\u001b[33mWARNING: Running pip as the 'root' user can result in broken permissions and conflicting behaviour with the system package manager, possibly rendering your system unusable. It is recommended to use a virtual environment instead: https://pip.pypa.io/warnings/venv. Use the --root-user-action option if you know what you are doing and want to suppress this warning.\u001b[0m\u001b[33m\n",
      "\u001b[0mNote: you may need to restart the kernel to use updated packages.\n"
     ]
    }
   ],
   "source": [
    "pip install alpha_vantage"
   ]
  },
  {
   "cell_type": "code",
   "execution_count": 4,
   "metadata": {
    "id": "EAtNPKd_9Ncy"
   },
   "outputs": [],
   "source": [
    "import pyspark.sql.functions as F\n",
    "from alpha_vantage.timeseries import TimeSeries\n"
   ]
  },
  {
   "cell_type": "code",
   "execution_count": 5,
   "metadata": {
    "id": "ND6WoXmN-nhY"
   },
   "outputs": [],
   "source": [
    "api_key = \"D1KXHTVQ2A275VB0\""
   ]
  },
  {
   "cell_type": "markdown",
   "metadata": {
    "id": "kt357Jjb8dO2"
   },
   "source": [
    "# Carga de datos"
   ]
  },
  {
   "cell_type": "code",
   "execution_count": 6,
   "metadata": {
    "id": "46DNjV5k-S96"
   },
   "outputs": [],
   "source": [
    "# Hacemos la lectura de los datos financieros a partir de la api\n",
    "ts = TimeSeries(key=api_key, output_format='pandas')\n",
    "data, meta_data = ts.get_daily(symbol='AMZN', outputsize='full')"
   ]
  },
  {
   "cell_type": "code",
   "execution_count": 7,
   "metadata": {
    "colab": {
     "base_uri": "https://localhost:8080/"
    },
    "executionInfo": {
     "elapsed": 14,
     "status": "ok",
     "timestamp": 1748167937703,
     "user": {
      "displayName": "Laura Lozano",
      "userId": "03845009722760732187"
     },
     "user_tz": -120
    },
    "id": "q16TPLxu-ztv",
    "outputId": "776ee061-c622-4e38-819a-ea51a8ebc5d0"
   },
   "outputs": [
    {
     "name": "stdout",
     "output_type": "stream",
     "text": [
      "            1. open   2. high  3. low  4. close   5. volume\n",
      "date                                                       \n",
      "2025-06-06  212.400  213.8699  210.50    213.57  39832500.0\n",
      "2025-06-05  209.550  212.8100  207.56    207.91  51979243.0\n",
      "2025-06-04  206.550  208.1800  205.18    207.23  29915592.0\n",
      "2025-06-03  207.105  208.9469  205.03    205.71  33139121.0\n",
      "2025-06-02  204.980  207.0000  202.68    206.65  29113319.0\n"
     ]
    }
   ],
   "source": [
    "print(data.head())"
   ]
  },
  {
   "cell_type": "code",
   "execution_count": 8,
   "metadata": {
    "id": "9sSq5nO4XBYL"
   },
   "outputs": [],
   "source": [
    "# Nos quedamos con los datos entre los años definidos\n",
    "data_fil = data[(data.index >= fec_min) & (data.index <= fec_max)]\n",
    "data_fil.columns = [var.split(\". \")[1] for var in data.columns]"
   ]
  },
  {
   "cell_type": "code",
   "execution_count": 9,
   "metadata": {
    "id": "ri_JM74Gh91f"
   },
   "outputs": [],
   "source": [
    "# Pasamos los datos a un spark dataframe\n",
    "df_data = spark.createDataFrame(data_fil.reset_index())"
   ]
  },
  {
   "cell_type": "code",
   "execution_count": 10,
   "metadata": {
    "colab": {
     "base_uri": "https://localhost:8080/"
    },
    "executionInfo": {
     "elapsed": 6525,
     "status": "ok",
     "timestamp": 1748167951903,
     "user": {
      "displayName": "Laura Lozano",
      "userId": "03845009722760732187"
     },
     "user_tz": -120
    },
    "id": "eq1HzSTtYFU7",
    "outputId": "4c0d518b-e366-4eea-c299-e8f73c2bf267"
   },
   "outputs": [
    {
     "name": "stderr",
     "output_type": "stream",
     "text": [
      "                                                                                \r"
     ]
    },
    {
     "data": {
      "text/plain": [
       "6309"
      ]
     },
     "execution_count": 10,
     "metadata": {},
     "output_type": "execute_result"
    }
   ],
   "source": [
    "df_data.count()"
   ]
  },
  {
   "cell_type": "code",
   "execution_count": 11,
   "metadata": {
    "colab": {
     "base_uri": "https://localhost:8080/"
    },
    "executionInfo": {
     "elapsed": 6738,
     "status": "ok",
     "timestamp": 1748167958645,
     "user": {
      "displayName": "Laura Lozano",
      "userId": "03845009722760732187"
     },
     "user_tz": -120
    },
    "id": "7YFTh37ZQUga",
    "outputId": "2ae1c65e-ea00-431d-8d80-aa07e144bd13"
   },
   "outputs": [
    {
     "name": "stderr",
     "output_type": "stream",
     "text": [
      "                                                                                \r"
     ]
    },
    {
     "name": "stdout",
     "output_type": "stream",
     "text": [
      "+-------+-----------------+-----------------+-----------------+-----------------+--------------------+\n",
      "|summary|             open|             high|              low|            close|              volume|\n",
      "+-------+-----------------+-----------------+-----------------+-----------------+--------------------+\n",
      "|  count|             6309|             6309|             6309|             6309|                6309|\n",
      "|   mean|593.3223745760007|600.0108554446048|585.8828748930082|593.0824456966238|1.1306734247424314E7|\n",
      "| stddev|927.8425149015573| 938.137159963499|916.1059603175174|927.0595077718248|1.7253855835222587E7|\n",
      "|    min|             5.91|              6.1|             5.51|             5.97|            881337.0|\n",
      "|    25%|            47.22|             48.2|            46.06|            47.22|           3648791.0|\n",
      "|    50%|            165.5|           168.47|         162.8701|            165.8|           5625700.0|\n",
      "|    75%|           637.14|           645.93|           627.35|           635.35|           8972800.0|\n",
      "|    max|           3744.0|        3773.0782|        3696.7929|          3731.41|        2.23133398E8|\n",
      "+-------+-----------------+-----------------+-----------------+-----------------+--------------------+\n",
      "\n"
     ]
    }
   ],
   "source": [
    "df_data.summary().show()"
   ]
  },
  {
   "cell_type": "code",
   "execution_count": 12,
   "metadata": {
    "colab": {
     "base_uri": "https://localhost:8080/"
    },
    "executionInfo": {
     "elapsed": 804,
     "status": "ok",
     "timestamp": 1748167959441,
     "user": {
      "displayName": "Laura Lozano",
      "userId": "03845009722760732187"
     },
     "user_tz": -120
    },
    "id": "eJoODeCzWWF6",
    "outputId": "e46f49b7-b323-4303-f463-6c08b30a1020"
   },
   "outputs": [
    {
     "name": "stderr",
     "output_type": "stream",
     "text": [
      "[Stage 6:>                                                          (0 + 2) / 2]\r"
     ]
    },
    {
     "name": "stdout",
     "output_type": "stream",
     "text": [
      "+-------------------+-------+------+------+------+-----------+\n",
      "|               date|   open|  high|   low| close|     volume|\n",
      "+-------------------+-------+------+------+------+-----------+\n",
      "|2025-01-31 00:00:00|  236.5|240.29|236.41|237.68|3.6162377E7|\n",
      "|2025-01-30 00:00:00| 237.14|237.95|232.22|234.64|3.2020728E7|\n",
      "|2025-01-29 00:00:00|239.015|240.39|236.15|237.07|2.6091716E7|\n",
      "|2025-01-28 00:00:00| 234.29|241.77|233.98|238.15|4.1587188E7|\n",
      "|2025-01-27 00:00:00| 226.21|235.61|225.86|235.42|4.9428332E7|\n",
      "+-------------------+-------+------+------+------+-----------+\n",
      "only showing top 5 rows\n",
      "\n"
     ]
    },
    {
     "name": "stderr",
     "output_type": "stream",
     "text": [
      "                                                                                \r"
     ]
    }
   ],
   "source": [
    "df_data.orderBy(\"date\", ascending=False).show(5)"
   ]
  },
  {
   "cell_type": "markdown",
   "metadata": {
    "id": "6S2J6a30aJP_"
   },
   "source": [
    "# Output"
   ]
  },
  {
   "cell_type": "code",
   "execution_count": 13,
   "metadata": {
    "id": "uAtpgwmXYrSG"
   },
   "outputs": [
    {
     "name": "stderr",
     "output_type": "stream",
     "text": [
      "                                                                                \r"
     ]
    }
   ],
   "source": [
    "# Guardamos los datos brutos para tratarlos más adelante\n",
    "df_data.write.mode(\"overwrite\").format(\"parquet\").save(f\"{path_datos}/datos_financieros_amzn_raw\")"
   ]
  }
 ],
 "metadata": {
  "colab": {
   "provenance": [
    {
     "file_id": "1LucKRwZaD6xs-Og-qjhRW05cY2BfXFk_",
     "timestamp": 1666188685917
    }
   ]
  },
  "kernelspec": {
   "display_name": "PySpark",
   "language": "python",
   "name": "pyspark"
  },
  "language_info": {
   "codemirror_mode": {
    "name": "ipython",
    "version": 3
   },
   "file_extension": ".py",
   "mimetype": "text/x-python",
   "name": "python",
   "nbconvert_exporter": "python",
   "pygments_lexer": "ipython3",
   "version": "3.10.8"
  }
 },
 "nbformat": 4,
 "nbformat_minor": 4
}