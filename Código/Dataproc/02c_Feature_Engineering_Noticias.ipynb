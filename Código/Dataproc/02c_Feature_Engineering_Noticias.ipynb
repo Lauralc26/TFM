{
 "cells": [
  {
   "cell_type": "code",
   "execution_count": 1,
   "metadata": {
    "id": "29qJKbHxi_pz"
   },
   "outputs": [],
   "source": [
    "# Tratamiento de los datos brutos de noticias"
   ]
  },
  {
   "cell_type": "code",
   "execution_count": 2,
   "metadata": {
    "id": "xwZKapTL1a9l"
   },
   "outputs": [],
   "source": [
    "fec_inicio = \"2019-01-01\"\n",
    "fec_fin = \"2025-01-01\""
   ]
  },
  {
   "cell_type": "markdown",
   "metadata": {
    "id": "RgGfqtWn7Mod"
   },
   "source": [
    "# Rutas"
   ]
  },
  {
   "cell_type": "code",
   "execution_count": 3,
   "metadata": {
    "id": "OFN2YgmBoFFj"
   },
   "outputs": [],
   "source": [
    "path_datos = \"gs://bucket-tfm-llc/datos\""
   ]
  },
  {
   "cell_type": "markdown",
   "metadata": {
    "id": "kTGiILJparsM"
   },
   "source": [
    "# Librerias"
   ]
  },
  {
   "cell_type": "code",
   "execution_count": 4,
   "metadata": {
    "id": "eMk56h8Kwkb-"
   },
   "outputs": [],
   "source": [
    "import pyspark.sql.functions as F\n",
    "from pyspark.sql.types import *\n",
    "from datetime import datetime, timedelta\n",
    "from pyspark.sql.window import Window"
   ]
  },
  {
   "cell_type": "markdown",
   "metadata": {
    "id": "x0Sj7eDY0ljV"
   },
   "source": [
    "# Lectura datos"
   ]
  },
  {
   "cell_type": "code",
   "execution_count": 5,
   "metadata": {},
   "outputs": [
    {
     "name": "stderr",
     "output_type": "stream",
     "text": [
      "                                                                                \r"
     ]
    }
   ],
   "source": [
    "df_noticias_sentiment = spark.read.parquet(f\"{path_datos}/noticias_con_analisis_sentimiento\")"
   ]
  },
  {
   "cell_type": "code",
   "execution_count": 6,
   "metadata": {
    "id": "P68fgf5lzAw8"
   },
   "outputs": [
    {
     "name": "stderr",
     "output_type": "stream",
     "text": [
      "                                                                                \r"
     ]
    }
   ],
   "source": [
    "df_fec_financiera = spark.read.parquet(f\"{path_datos}/datos_financieros_amzn_trat\").select(\"date\", \"target\").\\\n",
    "                          filter(F.col(\"date\") >= fec_inicio).filter(F.col(\"date\") < fec_fin).distinct()"
   ]
  },
  {
   "cell_type": "code",
   "execution_count": 7,
   "metadata": {
    "colab": {
     "base_uri": "https://localhost:8080/"
    },
    "executionInfo": {
     "elapsed": 8646,
     "status": "ok",
     "timestamp": 1749106061252,
     "user": {
      "displayName": "Laura Lozano",
      "userId": "03845009722760732187"
     },
     "user_tz": -120
    },
    "id": "0gKpt5HSzzXd",
    "outputId": "331712ab-3663-4435-c09a-8891e28335f6"
   },
   "outputs": [
    {
     "name": "stderr",
     "output_type": "stream",
     "text": [
      "                                                                                \r"
     ]
    },
    {
     "name": "stdout",
     "output_type": "stream",
     "text": [
      "+-------------------+-------------------+\n",
      "|          min(date)|          max(date)|\n",
      "+-------------------+-------------------+\n",
      "|2019-01-02 00:00:00|2024-12-31 00:00:00|\n",
      "+-------------------+-------------------+\n",
      "\n"
     ]
    }
   ],
   "source": [
    "df_fec_financiera.select(F.min(\"date\"), F.max(\"date\")).show()"
   ]
  },
  {
   "cell_type": "markdown",
   "metadata": {
    "id": "KSPgF0uiwmE2"
   },
   "source": [
    "# Tratamiento datos"
   ]
  },
  {
   "cell_type": "code",
   "execution_count": 8,
   "metadata": {},
   "outputs": [],
   "source": [
    "w_temporal = Window.orderBy(\"date_trat\")"
   ]
  },
  {
   "cell_type": "code",
   "execution_count": 9,
   "metadata": {},
   "outputs": [
    {
     "name": "stderr",
     "output_type": "stream",
     "text": [
      "[Stage 5:===================>                                       (1 + 2) / 3]\r"
     ]
    },
    {
     "name": "stdout",
     "output_type": "stream",
     "text": [
      "+----+------------+--------+\n",
      "|year|num_noticias|num_dias|\n",
      "+----+------------+--------+\n",
      "|2019|        1311|     245|\n",
      "|2020|         904|     234|\n",
      "|2021|        1147|     236|\n",
      "|2022|         970|     230|\n",
      "|2023|        1125|     237|\n",
      "|2024|        1047|     243|\n",
      "+----+------------+--------+\n",
      "\n"
     ]
    },
    {
     "name": "stderr",
     "output_type": "stream",
     "text": [
      "                                                                                \r"
     ]
    }
   ],
   "source": [
    "# Noticias por año:\n",
    "df_noticias_sentiment.groupBy(\"year\").agg(F.count(\"*\").alias(\"num_noticias\"), F.countDistinct(\"date_trat\").alias(\"num_dias\")).orderBy(\"year\").show()"
   ]
  },
  {
   "cell_type": "code",
   "execution_count": 10,
   "metadata": {},
   "outputs": [
    {
     "name": "stderr",
     "output_type": "stream",
     "text": [
      "                                                                                \r"
     ]
    },
    {
     "name": "stdout",
     "output_type": "stream",
     "text": [
      "Nº fechas total:  1510\n",
      "Nº fechas con noticias:  1425\n"
     ]
    }
   ],
   "source": [
    "print(f\"Nº fechas total: \", df_fec_financiera.count())\n",
    "print(f\"Nº fechas con noticias: \", df_noticias_sentiment.select(\"date_trat\").distinct().count())"
   ]
  },
  {
   "cell_type": "code",
   "execution_count": 11,
   "metadata": {},
   "outputs": [
    {
     "data": {
      "text/plain": [
       "200"
      ]
     },
     "execution_count": 11,
     "metadata": {},
     "output_type": "execute_result"
    }
   ],
   "source": [
    "df_noticias_sentiment.filter(F.col(\"page_title\").isNull()).count()"
   ]
  },
  {
   "cell_type": "code",
   "execution_count": 12,
   "metadata": {},
   "outputs": [
    {
     "data": {
      "text/plain": [
       "770"
      ]
     },
     "execution_count": 12,
     "metadata": {},
     "output_type": "execute_result"
    }
   ],
   "source": [
    "df_noticias_sentiment.filter(F.col(\"page_title\")==\"\").count()"
   ]
  },
  {
   "cell_type": "code",
   "execution_count": 13,
   "metadata": {},
   "outputs": [
    {
     "name": "stdout",
     "output_type": "stream",
     "text": [
      "+-------------------+----------+---------------------------------------------+-----------+--------------+--------------+---------+--------------------------+-----------------------+----------+--------------------+-------------------+------------------+--------------+--------------+--------------+---------------+---------------+---------------+-------------+\n",
      "|GKGRECORDID        |date_trat |page_title                                   |global_tone|positive_score|negative_score|polarity |activity_reference_density|group_reference_density|word_count|finbert_pos         |finbert_neg        |finbert_neu       |ind_pos_v2tone|ind_neg_v2tone|ind_neu_v2tone|ind_pos_finbert|ind_neg_finbert|ind_neu_finbert|ind_sin_title|\n",
      "+-------------------+----------+---------------------------------------------+-----------+--------------+--------------+---------+--------------------------+-----------------------+----------+--------------------+-------------------+------------------+--------------+--------------+--------------+---------------+---------------+---------------+-------------+\n",
      "|20210203170000-638 |2021-02-03|Greece's new century | New Europe            |0.0        |3.6823936     |3.6823936     |7.364787 |17.49137                  |0.1150748              |773       |0.07177269458770752 |0.03502614423632622|0.8932011723518372|0             |0             |1             |0              |0              |1              |0            |\n",
      "|20211210130000-435 |2021-12-10|People and Places - week of December 10, 2021|4.421488   |5.826446      |1.4049587     |7.231405 |20.413223                 |1.1983471              |2218      |0.021090084686875343|0.07145513594150543|0.907454788684845 |1             |0             |0             |0              |0              |1              |0            |\n",
      "|20190319170000-1897|2019-03-19|null                                         |0.87475556 |2.294947      |1.4201914     |3.7151384|21.28229                  |3.4064012              |8534      |NaN                 |NaN                |NaN               |1             |0             |0             |0              |0              |0              |1            |\n",
      "|20190128130000-1623|2019-01-28|null                                         |2.9988465  |4.1522493     |1.1534026     |5.3056517|19.953863                 |0.0                    |721       |null                |null               |null              |1             |0             |0             |0              |0              |0              |1            |\n",
      "+-------------------+----------+---------------------------------------------+-----------+--------------+--------------+---------+--------------------------+-----------------------+----------+--------------------+-------------------+------------------+--------------+--------------+--------------+---------------+---------------+---------------+-------------+\n",
      "only showing top 4 rows\n",
      "\n"
     ]
    }
   ],
   "source": [
    "vars_sent = [\"GKGRECORDID\",\"date_trat\",\"page_title\",\n",
    "            \"global_tone\",\"positive_score\",\"negative_score\",\"polarity\",\"activity_reference_density\",\"group_reference_density\",\"word_count\",\n",
    "             \"finbert_pos\",\"finbert_neg\",\"finbert_neu\"]\n",
    "\n",
    "df_noticias_sentiment_trat = df_noticias_sentiment.select(*vars_sent).\\\n",
    "        withColumn(\"page_title\", F.when(F.trim(F.col(\"page_title\"))==\"\", F.lit(None)).otherwise(F.col(\"page_title\"))).\\\n",
    "        withColumn(\"ind_pos_v2tone\", F.when(F.col(\"global_tone\")>0, F.lit(1)).otherwise(F.lit(0))).\\\n",
    "        withColumn(\"ind_neg_v2tone\", F.when(F.col(\"global_tone\")<0, F.lit(1)).otherwise(F.lit(0))).\\\n",
    "        withColumn(\"ind_neu_v2tone\", F.when(F.col(\"global_tone\")==0, F.lit(1)).otherwise(F.lit(0))).\\\n",
    "        withColumn(\"ind_pos_finbert\", F.when((F.col(\"finbert_pos\") > F.col(\"finbert_neg\")) & (F.col(\"finbert_pos\") > F.col(\"finbert_neu\")), F.lit(1)).otherwise(F.lit(0))).\\\n",
    "        withColumn(\"ind_neg_finbert\", F.when((F.col(\"finbert_neg\") > F.col(\"finbert_pos\")) & (F.col(\"finbert_neg\") > F.col(\"finbert_neu\")), F.lit(1)).otherwise(F.lit(0))).\\\n",
    "        withColumn(\"ind_neu_finbert\", F.when((F.col(\"finbert_neu\") > F.col(\"finbert_pos\")) & (F.col(\"finbert_neu\") > F.col(\"finbert_neg\")), F.lit(1)).otherwise(F.lit(0))).\\\n",
    "        withColumn(\"ind_sin_title\", F.when(F.col(\"page_title\").isNull(), F.lit(1)).otherwise(F.lit(0)))\n",
    "df_noticias_sentiment_trat.show(truncate=False, n=4)"
   ]
  },
  {
   "cell_type": "code",
   "execution_count": 14,
   "metadata": {
    "tags": []
   },
   "outputs": [
    {
     "name": "stderr",
     "output_type": "stream",
     "text": [
      "[Stage 30:>                                                         (0 + 3) / 3]\r"
     ]
    },
    {
     "name": "stdout",
     "output_type": "stream",
     "text": [
      "+----------+------------------+-------------------+-------------------+-------------------+-------------------+-------------------+-------------------+-----------------------+-----------------+------------------+------------------+-------------------+-------------------+------------------+\n",
      "| date_trat|num_noticias_total|num_noticias_pos_v2|num_noticias_neg_v2|num_noticias_neu_v2|num_noticias_pos_fb|num_noticias_neg_fb|num_noticias_neu_fb|num_noticias_sin_titulo|    avg_polaridad|        avg_pos_v2|        avg_neg_v2|         avg_pos_fb|         avg_neg_fb|        avg_neu_fb|\n",
      "+----------+------------------+-------------------+-------------------+-------------------+-------------------+-------------------+-------------------+-----------------------+-----------------+------------------+------------------+-------------------+-------------------+------------------+\n",
      "|2019-06-04|                 7|                  5|                  2|                  0|                  0|                  0|                  0|                      7|4.979729192597525|3.4724067875317166|1.5073222815990448|                NaN|                NaN|               NaN|\n",
      "|2021-06-22|                 3|                  3|                  0|                  0|                  1|                  0|                  2|                      0|3.982138713200887|3.0829595724741616| 0.899179125825564|0.22153577581048012|0.02064688379565875|0.7578173677126566|\n",
      "+----------+------------------+-------------------+-------------------+-------------------+-------------------+-------------------+-------------------+-----------------------+-----------------+------------------+------------------+-------------------+-------------------+------------------+\n",
      "only showing top 2 rows\n",
      "\n"
     ]
    },
    {
     "name": "stderr",
     "output_type": "stream",
     "text": [
      "                                                                                \r"
     ]
    }
   ],
   "source": [
    "df_noticias_diario = df_noticias_sentiment_trat.groupBy(\"date_trat\").agg(F.countDistinct(\"GKGRECORDID\").alias(\"num_noticias_total\"),\n",
    "                                                       F.sum(\"ind_pos_v2tone\").alias(\"num_noticias_pos_v2\"),\n",
    "                                                       F.sum(\"ind_neg_v2tone\").alias(\"num_noticias_neg_v2\"),\n",
    "                                                       F.sum(\"ind_neu_v2tone\").alias(\"num_noticias_neu_v2\"),\n",
    "                                                       F.sum(\"ind_pos_finbert\").alias(\"num_noticias_pos_fb\"),\n",
    "                                                       F.sum(\"ind_neg_finbert\").alias(\"num_noticias_neg_fb\"),\n",
    "                                                       F.sum(\"ind_neu_finbert\").alias(\"num_noticias_neu_fb\"),\n",
    "                                                       F.sum(\"ind_sin_title\").alias(\"num_noticias_sin_titulo\"),\n",
    "                                                       F.mean(\"polarity\").alias(\"avg_polaridad\"),\n",
    "                                                        F.mean(\"positive_score\").alias(\"avg_pos_v2\"), \n",
    "                                                       F.mean(\"negative_score\").alias(\"avg_neg_v2\"),\n",
    "                                                        F.mean(\"finbert_pos\").alias(\"avg_pos_fb\"),\n",
    "                                                        F.mean(\"finbert_neg\").alias(\"avg_neg_fb\"),\n",
    "                                                        F.mean(\"finbert_neu\").alias(\"avg_neu_fb\"))\n",
    "        \n",
    "df_noticias_diario.show(n=2)"
   ]
  },
  {
   "cell_type": "code",
   "execution_count": 15,
   "metadata": {},
   "outputs": [],
   "source": [
    "# Variables de sentimiento neto y proporciones\n",
    "df_noticias_diario_pct = df_noticias_diario.\\\n",
    "        withColumn(\"sent_neto_v2\", F.col(\"avg_pos_v2\") - F.col(\"avg_neg_v2\")).\\\n",
    "        withColumn(\"sent_neto_fb\", F.col(\"avg_pos_fb\") - F.col(\"avg_neg_fb\")).\\\n",
    "        withColumn(\"pct_pos_v2\", F.col(\"num_noticias_pos_v2\")/F.col(\"num_noticias_total\")).\\\n",
    "        withColumn(\"pct_neg_v2\", F.col(\"num_noticias_neg_v2\")/F.col(\"num_noticias_total\")).\\\n",
    "        withColumn(\"pct_neu_v2\", F.col(\"num_noticias_neu_v2\")/F.col(\"num_noticias_total\")).\\\n",
    "        withColumn(\"pct_pos_fb\", F.col(\"num_noticias_pos_fb\")/F.col(\"num_noticias_total\")).\\\n",
    "        withColumn(\"pct_neg_fb\", F.col(\"num_noticias_neg_fb\")/F.col(\"num_noticias_total\")).\\\n",
    "        withColumn(\"pct_neu_fb\", F.col(\"num_noticias_neu_fb\")/F.col(\"num_noticias_total\")).\\\n",
    "        withColumn(\"pct_sin_titulo\", F.col(\"num_noticias_sin_titulo\")/F.col(\"num_noticias_total\")).\\\n",
    "        withColumn(\"ratio_pos_neg_v2\", F.col(\"num_noticias_pos_v2\") / (F.col(\"num_noticias_neg_v2\")+1)).\\\n",
    "        withColumn(\"ratio_pos_neg_fb\", F.col(\"num_noticias_pos_fb\") / (F.col(\"num_noticias_neg_fb\")+1)).\\\n",
    "        withColumn(\"diff_sent_fb_v2\", F.col(\"sent_neto_fb\") - F.col(\"sent_neto_v2\")).\\\n",
    "        withColumn(\"diff_pct_pos_fb_v2\", F.col(\"pct_pos_fb\") - F.col(\"pct_pos_v2\")).\\\n",
    "        withColumn(\"diff_pct_neg_fb_v2\", F.col(\"pct_neg_fb\") - F.col(\"pct_neg_v2\"))"
   ]
  },
  {
   "cell_type": "code",
   "execution_count": 16,
   "metadata": {},
   "outputs": [],
   "source": [
    "# Variables de cambio (delta)\n",
    "df_noticias_diario_delta = df_noticias_diario_pct.\\\n",
    "        withColumn(\"delta_sent_neto_v2\", F.col(\"sent_neto_v2\") - F.lag(\"sent_neto_v2\", 1).over(w_temporal)).\\\n",
    "        withColumn(\"delta_sent_neto_fb\", F.col(\"sent_neto_fb\") - F.lag(\"sent_neto_fb\", 1).over(w_temporal)).\\\n",
    "        withColumn(\"delta_num_noticias\", F.col(\"num_noticias_total\") - F.lag(\"num_noticias_total\", 1).over(w_temporal))"
   ]
  },
  {
   "cell_type": "code",
   "execution_count": 17,
   "metadata": {},
   "outputs": [],
   "source": [
    "# Ventanas móviles:\n",
    "df_noticias_diario_vm = df_noticias_diario_delta\n",
    "for w in [5, 10, 20]:\n",
    "    w_temporal_roll = Window.orderBy(\"date_trat\").rowsBetween(-w+1, 0)\n",
    "\n",
    "    df_noticias_diario_vm = df_noticias_diario_vm.\\\n",
    "            withColumn(f\"sent_neto_fb_mean_{w}d\", F.avg(\"sent_neto_fb\").over(w_temporal_roll)).\\\n",
    "            withColumn(f\"sent_neto_v2_mean_{w}d\", F.avg(\"sent_neto_v2\").over(w_temporal_roll)).\\\n",
    "            withColumn(f\"sent_neto_fb_std_{w}d\", F.stddev(\"sent_neto_fb\").over(w_temporal_roll)).\\\n",
    "            withColumn(f\"sent_neto_v2_std_{w}d\", F.stddev(\"sent_neto_v2\").over(w_temporal_roll)).\\\n",
    "            withColumn(f\"num_noticias_total_{w}d\", F.sum(\"num_noticias_total\").over(w_temporal_roll)).\\\n",
    "            withColumn(f\"avg_pos_fb_{w}d\", F.avg(\"avg_pos_fb\").over(w_temporal_roll)).\\\n",
    "            withColumn(f\"avg_pos_v2_{w}d\", F.avg(\"avg_pos_v2\").over(w_temporal_roll)).\\\n",
    "            withColumn(f\"avg_neg_fb_{w}d\", F.avg(\"avg_neg_fb\").over(w_temporal_roll)).\\\n",
    "            withColumn(f\"avg_neg_v2_{w}d\", F.avg(\"avg_neg_v2\").over(w_temporal_roll)).\\\n",
    "            withColumn(f\"delta_sent_fb_{w}d\", F.sum(\"delta_sent_neto_fb\").over(w_temporal_roll)).\\\n",
    "            withColumn(f\"delta_sent_v2_{w}d\", F.sum(\"delta_sent_neto_v2\").over(w_temporal_roll)).\\\n",
    "            withColumn(f\"avg_polaridad_{w}d\", F.avg(\"avg_polaridad\").over(w_temporal_roll)).\\\n",
    "            withColumn(f\"sent_neto_fb_trend_{w}d\", F.col(\"sent_neto_fb\") - F.lag(\"sent_neto_fb\",w).over(w_temporal)).\\\n",
    "            withColumn(f\"sent_neto_v2_trend_{w}d\", F.col(\"sent_neto_v2\") - F.lag(\"sent_neto_v2\",w).over(w_temporal))\n"
   ]
  },
  {
   "cell_type": "code",
   "execution_count": 18,
   "metadata": {},
   "outputs": [],
   "source": [
    "# Interacciones adicionales:\n",
    "df_noticias_diario_final = df_noticias_diario_vm.\\\n",
    "        withColumn(\"sent_neto_fb_x_num_noticias\", F.col(\"sent_neto_fb\") * F.col(\"num_noticias_total\")).\\\n",
    "        withColumn(\"sent_neto_v2_x_num_noticias\", F.col(\"sent_neto_v2\") * F.col(\"num_noticias_total\")).\\\n",
    "        withColumn(\"avg_pos_x_neg_fb\", F.col(\"avg_pos_fb\") * F.col(\"avg_neg_fb\")).\\\n",
    "        withColumn(\"avg_pos_x_neg_v2\", F.col(\"avg_pos_v2\") * F.col(\"avg_neg_v2\")).\\\n",
    "        withColumn(\"delta_sent_x_sent_neto_fb\", F.col(\"delta_sent_neto_fb\") * F.col(\"sent_neto_fb\")).\\\n",
    "        withColumn(\"delta_sent_x_sent_neto_v2\", F.col(\"delta_sent_neto_v2\") * F.col(\"sent_neto_v2\"))\n"
   ]
  },
  {
   "cell_type": "code",
   "execution_count": 19,
   "metadata": {},
   "outputs": [],
   "source": [
    "# df_noticias_diario_final.drop(*vars_drop).columns"
   ]
  },
  {
   "cell_type": "markdown",
   "metadata": {},
   "source": [
    "# Output"
   ]
  },
  {
   "cell_type": "code",
   "execution_count": 20,
   "metadata": {},
   "outputs": [],
   "source": [
    "vars_drop = ['num_noticias_pos_v2',\n",
    " 'num_noticias_neg_v2',\n",
    " 'num_noticias_neu_v2',\n",
    " 'num_noticias_pos_fb',\n",
    " 'num_noticias_neg_fb',\n",
    " 'num_noticias_neu_fb',\n",
    " 'num_noticias_sin_titulo']"
   ]
  },
  {
   "cell_type": "code",
   "execution_count": 21,
   "metadata": {},
   "outputs": [],
   "source": [
    "df_noticias_diario_output = df_fec_financiera.join(df_noticias_diario_final.withColumnRenamed(\"date_trat\",\"date\"), \"date\", \"left\").\\\n",
    "            fillna(0).\\\n",
    "            withColumn(\"ind_existencia_noticias\", F.when(F.col(\"num_noticias_total\")==0, F.lit(0)).otherwise(F.lit(1))).\\\n",
    "            drop(*vars_drop)"
   ]
  },
  {
   "cell_type": "code",
   "execution_count": 22,
   "metadata": {},
   "outputs": [
    {
     "data": {
      "text/plain": [
       "73"
      ]
     },
     "execution_count": 22,
     "metadata": {},
     "output_type": "execute_result"
    }
   ],
   "source": [
    "len(df_noticias_diario_output.drop(\"date\",\"target\").columns)"
   ]
  },
  {
   "cell_type": "code",
   "execution_count": 23,
   "metadata": {},
   "outputs": [
    {
     "name": "stderr",
     "output_type": "stream",
     "text": [
      "25/06/21 09:04:28 WARN WindowExec: No Partition Defined for Window operation! Moving all data to a single partition, this can cause serious performance degradation.\n",
      "25/06/21 09:04:28 WARN WindowExec: No Partition Defined for Window operation! Moving all data to a single partition, this can cause serious performance degradation.\n",
      "25/06/21 09:04:28 WARN WindowExec: No Partition Defined for Window operation! Moving all data to a single partition, this can cause serious performance degradation.\n",
      "25/06/21 09:04:28 WARN WindowExec: No Partition Defined for Window operation! Moving all data to a single partition, this can cause serious performance degradation.\n",
      "25/06/21 09:04:28 WARN package: Truncated the string representation of a plan since it was too large. This behavior can be adjusted by setting 'spark.sql.debug.maxToStringFields'.\n",
      "25/06/21 09:04:30 WARN WindowExec: No Partition Defined for Window operation! Moving all data to a single partition, this can cause serious performance degradation.\n",
      "25/06/21 09:04:30 WARN WindowExec: No Partition Defined for Window operation! Moving all data to a single partition, this can cause serious performance degradation.\n",
      "25/06/21 09:04:30 WARN WindowExec: No Partition Defined for Window operation! Moving all data to a single partition, this can cause serious performance degradation.\n",
      "25/06/21 09:04:30 WARN WindowExec: No Partition Defined for Window operation! Moving all data to a single partition, this can cause serious performance degradation.\n",
      "25/06/21 09:04:30 WARN WindowExec: No Partition Defined for Window operation! Moving all data to a single partition, this can cause serious performance degradation.\n",
      "25/06/21 09:04:30 WARN WindowExec: No Partition Defined for Window operation! Moving all data to a single partition, this can cause serious performance degradation.\n",
      "25/06/21 09:04:30 WARN WindowExec: No Partition Defined for Window operation! Moving all data to a single partition, this can cause serious performance degradation.\n",
      "25/06/21 09:04:30 WARN WindowExec: No Partition Defined for Window operation! Moving all data to a single partition, this can cause serious performance degradation.\n",
      "25/06/21 09:04:31 WARN WindowExec: No Partition Defined for Window operation! Moving all data to a single partition, this can cause serious performance degradation.\n",
      "25/06/21 09:04:31 WARN WindowExec: No Partition Defined for Window operation! Moving all data to a single partition, this can cause serious performance degradation.\n",
      "25/06/21 09:04:31 WARN WindowExec: No Partition Defined for Window operation! Moving all data to a single partition, this can cause serious performance degradation.\n",
      "25/06/21 09:04:31 WARN WindowExec: No Partition Defined for Window operation! Moving all data to a single partition, this can cause serious performance degradation.\n",
      "25/06/21 09:04:32 WARN WindowExec: No Partition Defined for Window operation! Moving all data to a single partition, this can cause serious performance degradation.\n",
      "25/06/21 09:04:32 WARN WindowExec: No Partition Defined for Window operation! Moving all data to a single partition, this can cause serious performance degradation.\n",
      "25/06/21 09:04:32 WARN WindowExec: No Partition Defined for Window operation! Moving all data to a single partition, this can cause serious performance degradation.\n",
      "25/06/21 09:04:32 WARN WindowExec: No Partition Defined for Window operation! Moving all data to a single partition, this can cause serious performance degradation.\n",
      "                                                                                \r"
     ]
    }
   ],
   "source": [
    "df_noticias_diario_output.write.mode(\"overwrite\").format(\"parquet\").save(f\"{path_datos}/datos_noticias_19_24_trat\")"
   ]
  }
 ],
 "metadata": {
  "colab": {
   "provenance": [
    {
     "file_id": "1LucKRwZaD6xs-Og-qjhRW05cY2BfXFk_",
     "timestamp": 1666188685917
    }
   ]
  },
  "kernelspec": {
   "display_name": "PySpark",
   "language": "python",
   "name": "pyspark"
  },
  "language_info": {
   "codemirror_mode": {
    "name": "ipython",
    "version": 3
   },
   "file_extension": ".py",
   "mimetype": "text/x-python",
   "name": "python",
   "nbconvert_exporter": "python",
   "pygments_lexer": "ipython3",
   "version": "3.10.8"
  }
 },
 "nbformat": 4,
 "nbformat_minor": 4
}