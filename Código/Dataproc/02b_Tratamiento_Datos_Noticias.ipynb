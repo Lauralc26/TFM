{
 "cells": [
  {
   "cell_type": "code",
   "execution_count": 1,
   "metadata": {
    "id": "29qJKbHxi_pz"
   },
   "outputs": [],
   "source": [
    "# Tratamiento de los datos brutos de noticias"
   ]
  },
  {
   "cell_type": "code",
   "execution_count": 2,
   "metadata": {
    "id": "xwZKapTL1a9l"
   },
   "outputs": [],
   "source": [
    "fec_inicio = \"2019-01-01\"\n",
    "fec_fin = \"2025-01-01\""
   ]
  },
  {
   "cell_type": "markdown",
   "metadata": {
    "id": "RgGfqtWn7Mod"
   },
   "source": [
    "# Rutas"
   ]
  },
  {
   "cell_type": "code",
   "execution_count": 3,
   "metadata": {
    "id": "OFN2YgmBoFFj"
   },
   "outputs": [],
   "source": [
    "path_datos = \"gs://bucket-tfm-llc/datos\"\n",
    "# path_gkg = \"gs://bucket-tfm-llc/gkg\""
   ]
  },
  {
   "cell_type": "markdown",
   "metadata": {
    "id": "kTGiILJparsM"
   },
   "source": [
    "# Librerias"
   ]
  },
  {
   "cell_type": "code",
   "execution_count": 4,
   "metadata": {
    "id": "eMk56h8Kwkb-"
   },
   "outputs": [
    {
     "name": "stderr",
     "output_type": "stream",
     "text": [
      "2025-06-15 09:10:52.765383: I tensorflow/core/platform/cpu_feature_guard.cc:182] This TensorFlow binary is optimized to use available CPU instructions in performance-critical operations.\n",
      "To enable the following instructions: AVX2 FMA, in other operations, rebuild TensorFlow with the appropriate compiler flags.\n",
      "2025-06-15 09:10:59.612057: W tensorflow/compiler/tf2tensorrt/utils/py_utils.cc:38] TF-TRT Warning: Could not find TensorRT\n"
     ]
    }
   ],
   "source": [
    "import pyspark.sql.functions as F\n",
    "from pyspark.sql.types import *\n",
    "from datetime import datetime, timedelta\n",
    "from transformers import pipeline\n",
    "import time"
   ]
  },
  {
   "cell_type": "code",
   "execution_count": 5,
   "metadata": {},
   "outputs": [],
   "source": [
    "from transformers import AutoTokenizer, AutoModelForSequenceClassification\n",
    "import torch\n",
    "import torch.nn.functional as FT\n",
    "from tqdm import tqdm\n",
    "import pandas as pd"
   ]
  },
  {
   "cell_type": "markdown",
   "metadata": {
    "id": "x0Sj7eDY0ljV"
   },
   "source": [
    "# Lectura datos"
   ]
  },
  {
   "cell_type": "code",
   "execution_count": 6,
   "metadata": {},
   "outputs": [
    {
     "name": "stderr",
     "output_type": "stream",
     "text": [
      "                                                                                \r"
     ]
    }
   ],
   "source": [
    "df_noticias_raw = spark.read.parquet(f\"{path_datos}/datos_noticias_raw/*\")"
   ]
  },
  {
   "cell_type": "code",
   "execution_count": 7,
   "metadata": {
    "id": "P68fgf5lzAw8"
   },
   "outputs": [],
   "source": [
    "df_fec_financiera = spark.read.parquet(f\"{path_datos}/datos_financieros_amzn_trat\").select(\"date\").\\\n",
    "                          filter(F.col(\"date\") >= fec_inicio).filter(F.col(\"date\") < fec_fin).distinct()"
   ]
  },
  {
   "cell_type": "code",
   "execution_count": 8,
   "metadata": {
    "colab": {
     "base_uri": "https://localhost:8080/"
    },
    "executionInfo": {
     "elapsed": 8646,
     "status": "ok",
     "timestamp": 1749106061252,
     "user": {
      "displayName": "Laura Lozano",
      "userId": "03845009722760732187"
     },
     "user_tz": -120
    },
    "id": "0gKpt5HSzzXd",
    "outputId": "331712ab-3663-4435-c09a-8891e28335f6"
   },
   "outputs": [
    {
     "name": "stderr",
     "output_type": "stream",
     "text": [
      "[Stage 2:===========================================================(1 + 0) / 1]\r"
     ]
    },
    {
     "name": "stdout",
     "output_type": "stream",
     "text": [
      "+-------------------+-------------------+\n",
      "|          min(date)|          max(date)|\n",
      "+-------------------+-------------------+\n",
      "|2019-01-02 00:00:00|2024-12-31 00:00:00|\n",
      "+-------------------+-------------------+\n",
      "\n"
     ]
    },
    {
     "name": "stderr",
     "output_type": "stream",
     "text": [
      "                                                                                \r"
     ]
    }
   ],
   "source": [
    "df_fec_financiera.select(F.min(\"date\"), F.max(\"date\")).show()"
   ]
  },
  {
   "cell_type": "markdown",
   "metadata": {},
   "source": [
    "# Funciones"
   ]
  },
  {
   "cell_type": "code",
   "execution_count": 9,
   "metadata": {},
   "outputs": [],
   "source": [
    "import re\n",
    "\n",
    "def extract_page_title(var):\n",
    "    if var is None:\n",
    "        return None\n",
    "    match = re.search(r\"<PAGE_TITLE>(.*?)</PAGE_TITLE>$\", var)\n",
    "    if match:\n",
    "        return match.group(1).strip()\n",
    "    return None"
   ]
  },
  {
   "cell_type": "markdown",
   "metadata": {
    "id": "KSPgF0uiwmE2"
   },
   "source": [
    "# Tratamiento inicial"
   ]
  },
  {
   "cell_type": "code",
   "execution_count": 10,
   "metadata": {},
   "outputs": [],
   "source": [
    "# df_noticias_raw.show(n=2)"
   ]
  },
  {
   "cell_type": "code",
   "execution_count": 11,
   "metadata": {},
   "outputs": [
    {
     "name": "stderr",
     "output_type": "stream",
     "text": [
      "[Stage 5:>                                                          (0 + 1) / 1]\r"
     ]
    },
    {
     "name": "stdout",
     "output_type": "stream",
     "text": [
      "+------------------+--------------+-------------------+--------------------+--------------------+--------------------+--------------------+--------------------+--------------------+--------------------+--------------------+\n",
      "|       GKGRECORDID|          DATE|   SourceCommonName|  DocumentIdentifier|              Themes|           Locations|             Persons|       Organizations|     V2Organizations|              V2Tone|              Extras|\n",
      "+------------------+--------------+-------------------+--------------------+--------------------+--------------------+--------------------+--------------------+--------------------+--------------------+--------------------+\n",
      "|  20210202220000-7|20210202220000|channelnewsasia.com|https://www.chann...|TAX_FNCACT;TAX_FN...|                null|andy jassy;jeff b...| amazon web services|Amazon Web Servic...|0.980392156862745...|<PAGE_TITLE>Amazo...|\n",
      "|20210202220000-169|20210202220000|businessinsider.com|https://www.busin...|TAX_FNCACT;TAX_FN...|3#Washington, Was...|andy jassy;jeff b...|blue origin;amazo...|Blue Origin,964;A...|1.44927536231884,...|<PAGE_LINKS>https...|\n",
      "+------------------+--------------+-------------------+--------------------+--------------------+--------------------+--------------------+--------------------+--------------------+--------------------+--------------------+\n",
      "only showing top 2 rows\n",
      "\n"
     ]
    },
    {
     "name": "stderr",
     "output_type": "stream",
     "text": [
      "                                                                                \r"
     ]
    }
   ],
   "source": [
    "vars_selected = ['GKGRECORDID', 'DATE', 'SourceCommonName', 'DocumentIdentifier', 'Themes', 'Locations', 'Persons', 'Organizations', 'V2Organizations', 'V2Tone','Extras']\n",
    "df_noticias_raw.select(*vars_selected).show(2)"
   ]
  },
  {
   "cell_type": "code",
   "execution_count": 12,
   "metadata": {
    "tags": []
   },
   "outputs": [],
   "source": [
    "# Creamos las variables tratadas de fecha y extraemos el título de la página:\n",
    "df_noticias_fil = df_noticias_raw.select(*vars_selected).\\\n",
    "        withColumn(\"year\", F.substring(\"DATE\",1,4)).\\\n",
    "        withColumn(\"month\", F.substring(\"DATE\",5,2)).\\\n",
    "        withColumn(\"day\", F.substring(\"DATE\",7,2)).\\\n",
    "        withColumn(\"hour\", F.substring(\"DATE\",9,2)).\\\n",
    "        withColumn(\"date_trat\", F.to_date(F.concat_ws(\"-\",F.col(\"year\"),F.col(\"month\"),F.col(\"day\")),\"yyyy-MM-dd\")).\\\n",
    "    withColumn(\"page_title\", F.regexp_extract(F.col(\"Extras\"), \"<PAGE_TITLE>(.*?)</PAGE_TITLE>\", 1))"
   ]
  },
  {
   "cell_type": "code",
   "execution_count": 13,
   "metadata": {},
   "outputs": [
    {
     "name": "stderr",
     "output_type": "stream",
     "text": [
      "                                                                                \r"
     ]
    },
    {
     "data": {
      "text/plain": [
       "200"
      ]
     },
     "execution_count": 13,
     "metadata": {},
     "output_type": "execute_result"
    }
   ],
   "source": [
    "# Nº de noticias sin título disponible:\n",
    "df_noticias_fil.filter(F.col(\"page_title\").isNull()).count()"
   ]
  },
  {
   "cell_type": "code",
   "execution_count": 14,
   "metadata": {},
   "outputs": [
    {
     "name": "stderr",
     "output_type": "stream",
     "text": [
      "[Stage 9:============================================>              (3 + 1) / 4]\r"
     ]
    },
    {
     "name": "stdout",
     "output_type": "stream",
     "text": [
      "+----+------------+--------+\n",
      "|year|num_noticias|num_dias|\n",
      "+----+------------+--------+\n",
      "|2019|        1311|     245|\n",
      "|2020|         904|     234|\n",
      "|2021|        1147|     236|\n",
      "|2022|         970|     230|\n",
      "|2023|        1125|     237|\n",
      "|2024|        1047|     243|\n",
      "+----+------------+--------+\n",
      "\n"
     ]
    },
    {
     "name": "stderr",
     "output_type": "stream",
     "text": [
      "                                                                                \r"
     ]
    }
   ],
   "source": [
    "# Noticias por año:\n",
    "df_noticias_fil.groupBy(\"year\").agg(F.count(\"*\").alias(\"num_noticias\"), F.countDistinct(\"date_trat\").alias(\"num_dias\")).orderBy(\"year\").show()"
   ]
  },
  {
   "cell_type": "code",
   "execution_count": 15,
   "metadata": {},
   "outputs": [
    {
     "name": "stdout",
     "output_type": "stream",
     "text": [
      "Nº fechas total:  1510\n"
     ]
    },
    {
     "name": "stderr",
     "output_type": "stream",
     "text": [
      "[Stage 21:===========================================>              (3 + 1) / 4]\r"
     ]
    },
    {
     "name": "stdout",
     "output_type": "stream",
     "text": [
      "Nº fechas con noticias:  1425\n"
     ]
    },
    {
     "name": "stderr",
     "output_type": "stream",
     "text": [
      "                                                                                \r"
     ]
    }
   ],
   "source": [
    "print(f\"Nº fechas total: \", df_fec_financiera.count())\n",
    "print(f\"Nº fechas con noticias: \", df_noticias_fil.select(\"date_trat\").distinct().count())"
   ]
  },
  {
   "cell_type": "markdown",
   "metadata": {},
   "source": [
    "# Análisis sentimiento"
   ]
  },
  {
   "cell_type": "markdown",
   "metadata": {},
   "source": [
    "## Tratamiento V2Tone\n",
    "Hacemos el tratamiento del campo V2Tone para extraer la información contenida en él:"
   ]
  },
  {
   "cell_type": "code",
   "execution_count": 16,
   "metadata": {},
   "outputs": [],
   "source": [
    "df_noticias_trat = df_noticias_fil.withColumn(\"V2Tone_aux\", F.split(F.col(\"V2Tone\"),\",\")).\\\n",
    "            withColumn(\"global_tone\", F.col(\"V2Tone_aux\")[0].cast(\"float\")).\\\n",
    "            withColumn(\"positive_score\", F.col(\"V2Tone_aux\")[1].cast(\"float\")).\\\n",
    "            withColumn(\"negative_score\", F.col(\"V2Tone_aux\")[2].cast(\"float\")).\\\n",
    "            withColumn(\"polarity\", F.col(\"V2Tone_aux\")[3].cast(\"float\")).\\\n",
    "            withColumn(\"activity_reference_density\", F.col(\"V2Tone_aux\")[4].cast(\"float\")).\\\n",
    "            withColumn(\"group_reference_density\", F.col(\"V2Tone_aux\")[5].cast(\"float\")).\\\n",
    "            withColumn(\"word_count\", F.col(\"V2Tone_aux\")[6].cast(\"int\")).\\\n",
    "        drop(\"V2Tone_aux\")"
   ]
  },
  {
   "cell_type": "code",
   "execution_count": 17,
   "metadata": {},
   "outputs": [
    {
     "name": "stderr",
     "output_type": "stream",
     "text": [
      "[Stage 27:===========================================>              (3 + 1) / 4]\r"
     ]
    },
    {
     "name": "stdout",
     "output_type": "stream",
     "text": [
      "+-------+------------------+------------------+------------------+------------------+\n",
      "|summary|       global_tone|    positive_score|    negative_score|          polarity|\n",
      "+-------+------------------+------------------+------------------+------------------+\n",
      "|  count|              6504|              6504|              6504|              6504|\n",
      "|   mean|1.0784933317365608|3.1403073944302613|2.0618140547849046| 5.202121446401724|\n",
      "| stddev|2.7994334925810302|1.8244021011446925|1.7368863030296444|2.2030901569579733|\n",
      "|    min|       -12.1693125|               0.0|               0.0|               0.0|\n",
      "|    25%|       -0.34602076|         2.0242915|          0.933126|         3.6713288|\n",
      "|    50%|         1.1782032|         2.6143792|          1.421801|          4.805195|\n",
      "|    75%|         2.5742574|         3.9308176|         2.7863777|           6.47482|\n",
      "|    max|         12.755102|         13.265306|         13.756614|         16.857143|\n",
      "+-------+------------------+------------------+------------------+------------------+\n",
      "\n"
     ]
    },
    {
     "name": "stderr",
     "output_type": "stream",
     "text": [
      "                                                                                \r"
     ]
    }
   ],
   "source": [
    "df_noticias_trat.select(\"global_tone\",\"positive_score\",\"negative_score\",\"polarity\").summary().show()"
   ]
  },
  {
   "cell_type": "markdown",
   "metadata": {},
   "source": [
    "## FinBert - Títulos de las noticias\n",
    "Aplicamos análisis de sentimiento a los títulos de las noticias:"
   ]
  },
  {
   "cell_type": "code",
   "execution_count": 48,
   "metadata": {},
   "outputs": [
    {
     "name": "stderr",
     "output_type": "stream",
     "text": [
      "                                                                                \r"
     ]
    }
   ],
   "source": [
    "df_titulos_noticias = df_noticias_trat.select(\"GKGRECORDID\",\"DATE\",\"page_title\").\\\n",
    "        filter(F.col(\"page_title\").isNotNull()).\\\n",
    "        toPandas()"
   ]
  },
  {
   "cell_type": "code",
   "execution_count": 19,
   "metadata": {},
   "outputs": [
    {
     "data": {
      "text/plain": [
       "6304"
      ]
     },
     "execution_count": 19,
     "metadata": {},
     "output_type": "execute_result"
    }
   ],
   "source": [
    "len(df_titulos_noticias)"
   ]
  },
  {
   "cell_type": "code",
   "execution_count": 20,
   "metadata": {},
   "outputs": [
    {
     "name": "stdout",
     "output_type": "stream",
     "text": [
      "Memoria disponible: 5496.34 MB\n"
     ]
    }
   ],
   "source": [
    "import psutil\n",
    "print(f\"Memoria disponible: {psutil.virtual_memory().available / 1024**2:.2f} MB\")\n",
    "# 6800.21 "
   ]
  },
  {
   "cell_type": "code",
   "execution_count": 39,
   "metadata": {},
   "outputs": [
    {
     "data": {
      "application/vnd.jupyter.widget-view+json": {
       "model_id": "7a8841c683c148c6a788cd5d4dff1350",
       "version_major": 2,
       "version_minor": 0
      },
      "text/plain": [
       "tokenizer_config.json:   0%|          | 0.00/252 [00:00<?, ?B/s]"
      ]
     },
     "metadata": {},
     "output_type": "display_data"
    },
    {
     "data": {
      "application/vnd.jupyter.widget-view+json": {
       "model_id": "ffe9687bb5734bb1bf0548799a3db9c4",
       "version_major": 2,
       "version_minor": 0
      },
      "text/plain": [
       "config.json:   0%|          | 0.00/758 [00:00<?, ?B/s]"
      ]
     },
     "metadata": {},
     "output_type": "display_data"
    },
    {
     "data": {
      "application/vnd.jupyter.widget-view+json": {
       "model_id": "f93e9158924840fa927ebe868b69540c",
       "version_major": 2,
       "version_minor": 0
      },
      "text/plain": [
       "vocab.txt:   0%|          | 0.00/232k [00:00<?, ?B/s]"
      ]
     },
     "metadata": {},
     "output_type": "display_data"
    },
    {
     "data": {
      "application/vnd.jupyter.widget-view+json": {
       "model_id": "cd31c3948d26456aab38e93e04c8b837",
       "version_major": 2,
       "version_minor": 0
      },
      "text/plain": [
       "special_tokens_map.json:   0%|          | 0.00/112 [00:00<?, ?B/s]"
      ]
     },
     "metadata": {},
     "output_type": "display_data"
    },
    {
     "data": {
      "application/vnd.jupyter.widget-view+json": {
       "model_id": "53bcc8aaabec477187fa9bee1618c8f9",
       "version_major": 2,
       "version_minor": 0
      },
      "text/plain": [
       "pytorch_model.bin:   0%|          | 0.00/438M [00:00<?, ?B/s]"
      ]
     },
     "metadata": {},
     "output_type": "display_data"
    }
   ],
   "source": [
    "# Carga el modelo y tokenizer de FinBERT\n",
    "model_name = \"ProsusAI/finbert\"\n",
    "tokenizer = AutoTokenizer.from_pretrained(model_name)\n",
    "model = AutoModelForSequenceClassification.from_pretrained(model_name)"
   ]
  },
  {
   "cell_type": "code",
   "execution_count": 40,
   "metadata": {},
   "outputs": [
    {
     "data": {
      "text/plain": [
       "{'positive': 0, 'negative': 1, 'neutral': 2}"
      ]
     },
     "execution_count": 40,
     "metadata": {},
     "output_type": "execute_result"
    }
   ],
   "source": [
    "model.config.label2id"
   ]
  },
  {
   "cell_type": "code",
   "execution_count": 45,
   "metadata": {},
   "outputs": [],
   "source": [
    "# Función para obtener los 3 scores\n",
    "def get_finbert_scores(text):\n",
    "    if pd.isnull(text) or not isinstance(text, str) or len(text.strip()) == 0:\n",
    "        return (None, None, None)\n",
    "    inputs = tokenizer(text, return_tensors=\"pt\", truncation=True)\n",
    "    with torch.no_grad():\n",
    "        logits = model(**inputs).logits\n",
    "        probs = FT.softmax(logits, dim=1)\n",
    "        \n",
    "        positive_score = probs[0][0].item()\n",
    "        negative_score = probs[0][1].item()\n",
    "        neutral_score = probs[0][2].item()\n",
    "    return tuple([positive_score, negative_score, neutral_score])"
   ]
  },
  {
   "cell_type": "code",
   "execution_count": 46,
   "metadata": {},
   "outputs": [
    {
     "data": {
      "text/plain": [
       "(0.04278571158647537, 0.5052314400672913, 0.45198285579681396)"
      ]
     },
     "execution_count": 46,
     "metadata": {},
     "output_type": "execute_result"
    }
   ],
   "source": [
    "get_finbert_scores(\"EXCLUSIVE Amazon starts testing UK staff for coronavirus variants\")"
   ]
  },
  {
   "cell_type": "code",
   "execution_count": 49,
   "metadata": {},
   "outputs": [
    {
     "name": "stderr",
     "output_type": "stream",
     "text": [
      "100%|██████████| 6304/6304 [07:54<00:00, 13.30it/s]"
     ]
    },
    {
     "name": "stdout",
     "output_type": "stream",
     "text": [
      "Tiempo de ejecución: 7.9010 mintuos\n"
     ]
    },
    {
     "name": "stderr",
     "output_type": "stream",
     "text": [
      "\n"
     ]
    }
   ],
   "source": [
    "tqdm.pandas()\n",
    "inicio = time.time()\n",
    "df_titulos_noticias[[\"finbert_pos\", \"finbert_neg\", \"finbert_neu\"]] = df_titulos_noticias[\"page_title\"].progress_apply(lambda x: pd.Series(get_finbert_scores(x)))\n",
    "fin = time.time()\n",
    "print(f\"Tiempo de ejecución: {((fin - inicio)/60):.4f} mintuos\")"
   ]
  },
  {
   "cell_type": "code",
   "execution_count": 50,
   "metadata": {},
   "outputs": [
    {
     "data": {
      "text/html": [
       "<div>\n",
       "<style scoped>\n",
       "    .dataframe tbody tr th:only-of-type {\n",
       "        vertical-align: middle;\n",
       "    }\n",
       "\n",
       "    .dataframe tbody tr th {\n",
       "        vertical-align: top;\n",
       "    }\n",
       "\n",
       "    .dataframe thead th {\n",
       "        text-align: right;\n",
       "    }\n",
       "</style>\n",
       "<table border=\"1\" class=\"dataframe\">\n",
       "  <thead>\n",
       "    <tr style=\"text-align: right;\">\n",
       "      <th></th>\n",
       "      <th>GKGRECORDID</th>\n",
       "      <th>DATE</th>\n",
       "      <th>page_title</th>\n",
       "      <th>finbert_pos</th>\n",
       "      <th>finbert_neg</th>\n",
       "      <th>finbert_neu</th>\n",
       "    </tr>\n",
       "  </thead>\n",
       "  <tbody>\n",
       "    <tr>\n",
       "      <th>0</th>\n",
       "      <td>20210202220000-7</td>\n",
       "      <td>20210202220000</td>\n",
       "      <td>Amazon's Bezos to step down from CEO role in t...</td>\n",
       "      <td>0.018390</td>\n",
       "      <td>0.422639</td>\n",
       "      <td>0.558971</td>\n",
       "    </tr>\n",
       "    <tr>\n",
       "      <th>1</th>\n",
       "      <td>20210202220000-169</td>\n",
       "      <td>20210202220000</td>\n",
       "      <td>Jeff Bezos will step down as Amazon CEO later ...</td>\n",
       "      <td>0.015970</td>\n",
       "      <td>0.405611</td>\n",
       "      <td>0.578419</td>\n",
       "    </tr>\n",
       "    <tr>\n",
       "      <th>2</th>\n",
       "      <td>20210202220000-271</td>\n",
       "      <td>20210202220000</td>\n",
       "      <td>Jeff Bezos to step down as Amazon CEO after re...</td>\n",
       "      <td>0.017405</td>\n",
       "      <td>0.516179</td>\n",
       "      <td>0.466415</td>\n",
       "    </tr>\n",
       "    <tr>\n",
       "      <th>3</th>\n",
       "      <td>20210202220000-344</td>\n",
       "      <td>20210202220000</td>\n",
       "      <td>Jeff Bezos is stepping down as Amazon CEO</td>\n",
       "      <td>0.018289</td>\n",
       "      <td>0.429903</td>\n",
       "      <td>0.551808</td>\n",
       "    </tr>\n",
       "    <tr>\n",
       "      <th>4</th>\n",
       "      <td>20210202220000-438</td>\n",
       "      <td>20210202220000</td>\n",
       "      <td>Jeff Bezos stepping down as Amazon's CEO, will...</td>\n",
       "      <td>0.020910</td>\n",
       "      <td>0.117228</td>\n",
       "      <td>0.861862</td>\n",
       "    </tr>\n",
       "    <tr>\n",
       "      <th>...</th>\n",
       "      <td>...</td>\n",
       "      <td>...</td>\n",
       "      <td>...</td>\n",
       "      <td>...</td>\n",
       "      <td>...</td>\n",
       "      <td>...</td>\n",
       "    </tr>\n",
       "    <tr>\n",
       "      <th>6299</th>\n",
       "      <td>20240122220000-1850</td>\n",
       "      <td>20240122220000</td>\n",
       "      <td>Funky Taurus Media  - Music Photo Agency  &amp;  P...</td>\n",
       "      <td>0.027807</td>\n",
       "      <td>0.025194</td>\n",
       "      <td>0.946999</td>\n",
       "    </tr>\n",
       "    <tr>\n",
       "      <th>6300</th>\n",
       "      <td>20240508100000-1390</td>\n",
       "      <td>20240508100000</td>\n",
       "      <td>Funky Taurus Media  - Music Photo Agency  &amp;  P...</td>\n",
       "      <td>0.027807</td>\n",
       "      <td>0.025194</td>\n",
       "      <td>0.946999</td>\n",
       "    </tr>\n",
       "    <tr>\n",
       "      <th>6301</th>\n",
       "      <td>20240402130000-1681</td>\n",
       "      <td>20240402130000</td>\n",
       "      <td>NETSOL Technologies Achieves AWS Foundational ...</td>\n",
       "      <td>0.863743</td>\n",
       "      <td>0.008171</td>\n",
       "      <td>0.128087</td>\n",
       "    </tr>\n",
       "    <tr>\n",
       "      <th>6302</th>\n",
       "      <td>20240905130000-316</td>\n",
       "      <td>20240905130000</td>\n",
       "      <td>Amazon congratulates itself for AI code that m...</td>\n",
       "      <td>0.425772</td>\n",
       "      <td>0.014616</td>\n",
       "      <td>0.559612</td>\n",
       "    </tr>\n",
       "    <tr>\n",
       "      <th>6303</th>\n",
       "      <td>20240821100000-463</td>\n",
       "      <td>20240821100000</td>\n",
       "      <td>AWS makes major investment in Taiwan, highligh...</td>\n",
       "      <td>0.824079</td>\n",
       "      <td>0.006889</td>\n",
       "      <td>0.169032</td>\n",
       "    </tr>\n",
       "  </tbody>\n",
       "</table>\n",
       "<p>6304 rows × 6 columns</p>\n",
       "</div>"
      ],
      "text/plain": [
       "              GKGRECORDID            DATE  \\\n",
       "0        20210202220000-7  20210202220000   \n",
       "1      20210202220000-169  20210202220000   \n",
       "2      20210202220000-271  20210202220000   \n",
       "3      20210202220000-344  20210202220000   \n",
       "4      20210202220000-438  20210202220000   \n",
       "...                   ...             ...   \n",
       "6299  20240122220000-1850  20240122220000   \n",
       "6300  20240508100000-1390  20240508100000   \n",
       "6301  20240402130000-1681  20240402130000   \n",
       "6302   20240905130000-316  20240905130000   \n",
       "6303   20240821100000-463  20240821100000   \n",
       "\n",
       "                                             page_title  finbert_pos  \\\n",
       "0     Amazon's Bezos to step down from CEO role in t...     0.018390   \n",
       "1     Jeff Bezos will step down as Amazon CEO later ...     0.015970   \n",
       "2     Jeff Bezos to step down as Amazon CEO after re...     0.017405   \n",
       "3             Jeff Bezos is stepping down as Amazon CEO     0.018289   \n",
       "4     Jeff Bezos stepping down as Amazon's CEO, will...     0.020910   \n",
       "...                                                 ...          ...   \n",
       "6299  Funky Taurus Media  - Music Photo Agency  &  P...     0.027807   \n",
       "6300  Funky Taurus Media  - Music Photo Agency  &  P...     0.027807   \n",
       "6301  NETSOL Technologies Achieves AWS Foundational ...     0.863743   \n",
       "6302  Amazon congratulates itself for AI code that m...     0.425772   \n",
       "6303  AWS makes major investment in Taiwan, highligh...     0.824079   \n",
       "\n",
       "      finbert_neg  finbert_neu  \n",
       "0        0.422639     0.558971  \n",
       "1        0.405611     0.578419  \n",
       "2        0.516179     0.466415  \n",
       "3        0.429903     0.551808  \n",
       "4        0.117228     0.861862  \n",
       "...           ...          ...  \n",
       "6299     0.025194     0.946999  \n",
       "6300     0.025194     0.946999  \n",
       "6301     0.008171     0.128087  \n",
       "6302     0.014616     0.559612  \n",
       "6303     0.006889     0.169032  \n",
       "\n",
       "[6304 rows x 6 columns]"
      ]
     },
     "execution_count": 50,
     "metadata": {},
     "output_type": "execute_result"
    }
   ],
   "source": [
    "df_titulos_noticias"
   ]
  },
  {
   "cell_type": "markdown",
   "metadata": {},
   "source": [
    "### Otra forma:"
   ]
  },
  {
   "cell_type": "code",
   "execution_count": 51,
   "metadata": {},
   "outputs": [],
   "source": [
    "# # Descargamos el modelo finbert:\n",
    "# sentiment_pipeline = pipeline(\"sentiment-analysis\",\n",
    "#                             model=\"ProsusAI/finbert\",\n",
    "#                             tokenizer=\"ProsusAI/finbert\",\n",
    "#                             device=-1)"
   ]
  },
  {
   "cell_type": "code",
   "execution_count": 52,
   "metadata": {},
   "outputs": [],
   "source": [
    "# print(f\"Memoria disponible: {psutil.virtual_memory().available / 1024**2:.2f} MB\")"
   ]
  },
  {
   "cell_type": "code",
   "execution_count": 53,
   "metadata": {},
   "outputs": [],
   "source": [
    "# # Aplicamos análisis de sentimiento a cada título\n",
    "# inicio = time.time()\n",
    "# df_titulos_noticias[\"sentiment\"] = df_titulos_noticias[\"page_title\"].apply(lambda x: sentiment_pipeline(x)[0])\n",
    "# fin = time.time()"
   ]
  },
  {
   "cell_type": "code",
   "execution_count": 54,
   "metadata": {},
   "outputs": [],
   "source": [
    "# # Extraemos la información\n",
    "# df_titulos_noticias[\"label\"] = df_titulos_noticias[\"sentiment\"].apply(lambda x: x[\"label\"])\n",
    "# df_titulos_noticias[\"score\"] = df_titulos_noticias[\"sentiment\"].apply(lambda x: x[\"score\"])"
   ]
  },
  {
   "cell_type": "markdown",
   "metadata": {},
   "source": [
    "# Output"
   ]
  },
  {
   "cell_type": "code",
   "execution_count": 57,
   "metadata": {},
   "outputs": [],
   "source": [
    "df_final_sentimientos = spark.createDataFrame(df_titulos_noticias)"
   ]
  },
  {
   "cell_type": "code",
   "execution_count": 58,
   "metadata": {},
   "outputs": [
    {
     "name": "stdout",
     "output_type": "stream",
     "text": [
      "+-------------------+--------------+-----------------------------------------------------------------------------------------------------+--------------------+--------------------+--------------------+\n",
      "|GKGRECORDID        |DATE          |page_title                                                                                           |finbert_pos         |finbert_neg         |finbert_neu         |\n",
      "+-------------------+--------------+-----------------------------------------------------------------------------------------------------+--------------------+--------------------+--------------------+\n",
      "|20210202220000-7   |20210202220000|Amazon's Bezos to step down from CEO role in third quarter                                           |0.01838993839919567 |0.4226389229297638  |0.5589711666107178  |\n",
      "|20210202220000-169 |20210202220000|Jeff Bezos will step down as Amazon CEO later this year                                              |0.015970265492796898|0.40561074018478394 |0.578419029712677   |\n",
      "|20210202220000-271 |20210202220000|Jeff Bezos to step down as Amazon CEO after record-smashing 2020 ends with first $100-billion quarter|0.017405429854989052|0.5161793231964111  |0.4664152264595032  |\n",
      "|20210202220000-344 |20210202220000|Jeff Bezos is stepping down as Amazon CEO                                                            |0.018289081752300262|0.4299030601978302  |0.5518078804016113  |\n",
      "|20210202220000-438 |20210202220000|Jeff Bezos stepping down as Amazon's CEO, will become executive chairman                             |0.02091020718216896 |0.11722776293754578 |0.8618620038032532  |\n",
      "|20210202220000-595 |20210202220000|Amazon CEO Jeff Bezos Is Stepping Down                                                               |0.017788972705602646|0.42817604541778564 |0.5540350675582886  |\n",
      "|20210202220000-851 |20210202220000|Google discloses cloud results for the first time as it looks beyond search                          |0.12117581069469452 |0.009907426312565804|0.8689168095588684  |\n",
      "|20210202220000-1055|20210202220000|Jeff Bezos to step down as CEO of Amazon                                                             |0.016899187117815018|0.46751347184181213 |0.515587329864502   |\n",
      "|20210202220000-1158|20210202220000|Jeff Bezos stepping aside as Amazon CEO later this year                                              |0.02091575600206852 |0.3315175771713257  |0.6475666761398315  |\n",
      "|20210202220000-1245|20210202220000|Jeff Bezos to Step Down as Amazon CEO                                                                |0.01746956631541252 |0.40439262986183167 |0.5781378149986267  |\n",
      "|20210202220000-1290|20210202220000|Jeff Bezos to step down as Amazon CEO - new chief announced                                          |0.01928429678082466 |0.32009556889533997 |0.6606201529502869  |\n",
      "|20210202220000-1355|20210202220000|Jeff Bezos is stepping down as Amazon CEO                                                            |0.018289081752300262|0.4299030601978302  |0.5518078804016113  |\n",
      "|20210909220000-60  |20210909220000|Snyk raises $530M at $8.5B valuation to help developers detect vulnerable code                       |0.7703241109848022  |0.00957070104777813 |0.2201051265001297  |\n",
      "|20210909220000-598 |20210909220000|Funky Taurus Media  - Music Photo Agency  &  Products                                                |0.027807435020804405|0.025193799287080765|0.9469987750053406  |\n",
      "|20210202170000-796 |20210202170000|FTSE 100 cements solid gains                                                                         |0.9430930614471436  |0.03113836981356144 |0.025768613442778587|\n",
      "|20210202170000-995 |20210202170000|Funky Taurus Media  - Music Photo Agency  &  Products                                                |0.027807435020804405|0.025193799287080765|0.9469987750053406  |\n",
      "|20210622220000-139 |20210622220000|Funky Taurus Media  - Music Photo Agency  &  Products                                                |0.027807435020804405|0.025193799287080765|0.9469987750053406  |\n",
      "|20210622220000-840 |20210622220000|Funky Taurus Media  - Music Photo Agency  &  Products                                                |0.027807435020804405|0.025193799287080765|0.9469987750053406  |\n",
      "|20210203170000-638 |20210203170000|Greece's new century | New Europe                                                                    |0.07177269458770752 |0.03502614423632622 |0.8932011723518372  |\n",
      "|20210203170000-1026|20210203170000|Andy Jassy steps into big shoes in Washington                                                        |0.1322009563446045  |0.013298441655933857|0.8545006513595581  |\n",
      "+-------------------+--------------+-----------------------------------------------------------------------------------------------------+--------------------+--------------------+--------------------+\n",
      "only showing top 20 rows\n",
      "\n"
     ]
    }
   ],
   "source": [
    "df_final_sentimientos.show(truncate=False)"
   ]
  },
  {
   "cell_type": "code",
   "execution_count": 59,
   "metadata": {},
   "outputs": [],
   "source": [
    "df_output = df_noticias_trat.join(df_final_sentimientos.drop(\"page_title\"), [\"GKGRECORDID\",\"DATE\"], \"left\")"
   ]
  },
  {
   "cell_type": "code",
   "execution_count": 60,
   "metadata": {},
   "outputs": [
    {
     "name": "stderr",
     "output_type": "stream",
     "text": [
      "                                                                                \r"
     ]
    },
    {
     "data": {
      "text/plain": [
       "6504"
      ]
     },
     "execution_count": 60,
     "metadata": {},
     "output_type": "execute_result"
    }
   ],
   "source": [
    "df_output.count()"
   ]
  },
  {
   "cell_type": "code",
   "execution_count": 61,
   "metadata": {},
   "outputs": [
    {
     "name": "stderr",
     "output_type": "stream",
     "text": [
      "                                                                                \r"
     ]
    },
    {
     "data": {
      "text/plain": [
       "6504"
      ]
     },
     "execution_count": 61,
     "metadata": {},
     "output_type": "execute_result"
    }
   ],
   "source": [
    "df_noticias_trat.count()"
   ]
  },
  {
   "cell_type": "code",
   "execution_count": 62,
   "metadata": {},
   "outputs": [
    {
     "name": "stderr",
     "output_type": "stream",
     "text": [
      "25/06/15 09:50:59 WARN package: Truncated the string representation of a plan since it was too large. This behavior can be adjusted by setting 'spark.sql.debug.maxToStringFields'.\n",
      "                                                                                \r"
     ]
    }
   ],
   "source": [
    "df_output.write.mode(\"overwrite\").format(\"parquet\").save(f\"{path_datos}/noticias_con_analisis_sentimiento\")"
   ]
  }
 ],
 "metadata": {
  "colab": {
   "provenance": [
    {
     "file_id": "1LucKRwZaD6xs-Og-qjhRW05cY2BfXFk_",
     "timestamp": 1666188685917
    }
   ]
  },
  "kernelspec": {
   "display_name": "PySpark",
   "language": "python",
   "name": "pyspark"
  },
  "language_info": {
   "codemirror_mode": {
    "name": "ipython",
    "version": 3
   },
   "file_extension": ".py",
   "mimetype": "text/x-python",
   "name": "python",
   "nbconvert_exporter": "python",
   "pygments_lexer": "ipython3",
   "version": "3.10.8"
  }
 },
 "nbformat": 4,
 "nbformat_minor": 4
}