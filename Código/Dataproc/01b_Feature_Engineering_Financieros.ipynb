{
 "cells": [
  {
   "cell_type": "code",
   "execution_count": 1,
   "metadata": {
    "id": "gfEfl4KVqZwB"
   },
   "outputs": [],
   "source": [
    "path_datos = \"gs://bucket-tfm-llc/datos\""
   ]
  },
  {
   "cell_type": "code",
   "execution_count": 2,
   "metadata": {
    "id": "dIWi2tNiqcgV"
   },
   "outputs": [],
   "source": [
    "# print(os.listdir(\"/content/drive/MyDrive/TFM/datos/\"))"
   ]
  },
  {
   "cell_type": "markdown",
   "metadata": {
    "id": "kTGiILJparsM"
   },
   "source": [
    "# Librerias"
   ]
  },
  {
   "cell_type": "code",
   "execution_count": 3,
   "metadata": {
    "id": "0R1ZKJufikI5"
   },
   "outputs": [],
   "source": [
    "import pyspark.sql.functions as F\n",
    "from pyspark.sql.window import Window"
   ]
  },
  {
   "cell_type": "markdown",
   "metadata": {
    "id": "KLeUVUJ5itCU"
   },
   "source": [
    "# Lectura tablas"
   ]
  },
  {
   "cell_type": "code",
   "execution_count": 4,
   "metadata": {
    "id": "cGXt3Hjpisjt"
   },
   "outputs": [
    {
     "name": "stderr",
     "output_type": "stream",
     "text": [
      "                                                                                \r"
     ]
    }
   ],
   "source": [
    "df_amzn = spark.read.parquet(f\"{path_datos}/datos_financieros_amzn_raw\")"
   ]
  },
  {
   "cell_type": "code",
   "execution_count": 5,
   "metadata": {
    "colab": {
     "base_uri": "https://localhost:8080/"
    },
    "executionInfo": {
     "elapsed": 5594,
     "status": "ok",
     "timestamp": 1748191822167,
     "user": {
      "displayName": "Laura Lozano",
      "userId": "03845009722760732187"
     },
     "user_tz": -120
    },
    "id": "V8pHjbHluPBD",
    "outputId": "c454838a-a8ec-443a-e144-e20d0a63077b"
   },
   "outputs": [
    {
     "name": "stderr",
     "output_type": "stream",
     "text": [
      "[Stage 1:>                                                          (0 + 1) / 1]\r"
     ]
    },
    {
     "name": "stdout",
     "output_type": "stream",
     "text": [
      "+-------------------+-------+-------+------+------+-----------+\n",
      "|               date|   open|   high|   low| close|     volume|\n",
      "+-------------------+-------+-------+------+------+-----------+\n",
      "|2025-01-31 00:00:00|  236.5| 240.29|236.41|237.68|3.6162377E7|\n",
      "|2025-01-30 00:00:00| 237.14| 237.95|232.22|234.64|3.2020728E7|\n",
      "|2025-01-29 00:00:00|239.015| 240.39|236.15|237.07|2.6091716E7|\n",
      "|2025-01-28 00:00:00| 234.29| 241.77|233.98|238.15|4.1587188E7|\n",
      "|2025-01-27 00:00:00| 226.21| 235.61|225.86|235.42|4.9428332E7|\n",
      "|2025-01-24 00:00:00|  234.5|  236.4|232.93|234.85|2.5890738E7|\n",
      "|2025-01-23 00:00:00|  234.1| 235.52|231.51|235.42|2.6404364E7|\n",
      "|2025-01-22 00:00:00| 232.02| 235.44|231.19|235.01|4.1448217E7|\n",
      "|2025-01-21 00:00:00|  228.9| 231.78|226.94|230.71|3.9951456E7|\n",
      "|2025-01-17 00:00:00| 225.84| 226.51|223.08|225.94|4.2370123E7|\n",
      "|2025-01-16 00:00:00| 224.42| 224.65|220.31|220.66|2.4757276E7|\n",
      "|2025-01-15 00:00:00| 222.83| 223.57|220.75|223.35|3.1291257E7|\n",
      "|2025-01-14 00:00:00| 220.44| 221.82| 216.2|217.76| 2.471165E7|\n",
      "|2025-01-13 00:00:00| 218.06|  219.4|216.47|218.46|2.7262655E7|\n",
      "|2025-01-10 00:00:00| 221.46| 221.71| 216.5|218.94|3.6811525E7|\n",
      "|2025-01-08 00:00:00|223.185| 223.52| 220.2|222.13|2.5033292E7|\n",
      "|2025-01-07 00:00:00|  227.9|228.381|221.46|222.11|2.8084164E7|\n",
      "|2025-01-06 00:00:00| 226.78|228.835|224.84|227.61|3.1849831E7|\n",
      "|2025-01-03 00:00:00|222.505| 225.36|221.62|224.19|2.7515606E7|\n",
      "|2025-01-02 00:00:00| 222.03| 225.15|218.19|220.22|3.3956579E7|\n",
      "+-------------------+-------+-------+------+------+-----------+\n",
      "only showing top 20 rows\n",
      "\n"
     ]
    },
    {
     "name": "stderr",
     "output_type": "stream",
     "text": [
      "                                                                                \r"
     ]
    }
   ],
   "source": [
    "df_amzn.show()"
   ]
  },
  {
   "cell_type": "code",
   "execution_count": 6,
   "metadata": {
    "colab": {
     "base_uri": "https://localhost:8080/"
    },
    "executionInfo": {
     "elapsed": 5770,
     "status": "ok",
     "timestamp": 1748191827942,
     "user": {
      "displayName": "Laura Lozano",
      "userId": "03845009722760732187"
     },
     "user_tz": -120
    },
    "id": "zp6F9g4EdvOM",
    "outputId": "de7fd994-a373-4cdd-f307-cbd13ca354ac"
   },
   "outputs": [
    {
     "name": "stderr",
     "output_type": "stream",
     "text": [
      "[Stage 4:>                                                          (0 + 1) / 1]\r"
     ]
    },
    {
     "name": "stdout",
     "output_type": "stream",
     "text": [
      "+-------+-----------------+-----------------+-----------------+-----------------+--------------------+\n",
      "|summary|             open|             high|              low|            close|              volume|\n",
      "+-------+-----------------+-----------------+-----------------+-----------------+--------------------+\n",
      "|  count|             6309|             6309|             6309|             6309|                6309|\n",
      "|   mean|593.3223745760007|600.0108554446048|585.8828748930082|593.0824456966238|1.1306734247424314E7|\n",
      "| stddev|927.8425149015573| 938.137159963499|916.1059603175175|927.0595077718248|1.7253855835222587E7|\n",
      "|    min|             5.91|              6.1|             5.51|             5.97|            881337.0|\n",
      "|    25%|            47.22|             48.2|            46.06|            47.22|           3648791.0|\n",
      "|    50%|            165.5|           168.47|         162.8701|            165.8|           5625700.0|\n",
      "|    75%|           637.14|           645.93|           627.35|           635.35|           8972800.0|\n",
      "|    max|           3744.0|        3773.0782|        3696.7929|          3731.41|        2.23133398E8|\n",
      "+-------+-----------------+-----------------+-----------------+-----------------+--------------------+\n",
      "\n"
     ]
    },
    {
     "name": "stderr",
     "output_type": "stream",
     "text": [
      "                                                                                \r"
     ]
    }
   ],
   "source": [
    "df_amzn.summary().show()"
   ]
  },
  {
   "cell_type": "markdown",
   "metadata": {
    "id": "1Os9MtIQhz17"
   },
   "source": [
    "# Tratamiento - Feature engineering"
   ]
  },
  {
   "cell_type": "markdown",
   "metadata": {
    "id": "Ji1EZVQfwRYT"
   },
   "source": [
    "## Target"
   ]
  },
  {
   "cell_type": "code",
   "execution_count": 7,
   "metadata": {
    "id": "IPpdyAtGuBEm"
   },
   "outputs": [],
   "source": [
    "# Cálculo de la variable target\n",
    "# Para evitar ruido, miramos un horizonte de 5 días y que la subida sea mayor al 2%:\n",
    "w_temporal = Window.orderBy(\"date\")\n",
    "pct_subida = 0.02\n",
    "\n",
    "# df_amzn_target = df_amzn.withColumn(\"target\", F.when(F.lead(\"close\").over(w_temporal) > F.col(\"close\"), F.lit(1)).otherwise(F.lit(0)))\n",
    "df_amzn_target = df_amzn.withColumn(\"target\", F.when(F.lead(\"close\", 5).over(w_temporal) > F.col(\"close\") * (1 + pct_subida), F.lit(1)).otherwise(F.lit(0)))"
   ]
  },
  {
   "cell_type": "markdown",
   "metadata": {
    "id": "L7gLAJ4YwTHW"
   },
   "source": [
    "## Tendencia"
   ]
  },
  {
   "cell_type": "code",
   "execution_count": 8,
   "metadata": {
    "id": "mD14mhbauutQ"
   },
   "outputs": [],
   "source": [
    "# Cálculo de ratios de cambio en distintas ventanas temporales:\n",
    "df_amzn_ratios = df_amzn_target.\\\n",
    "      withColumn(\"roc_5d\", (F.col(\"close\") - F.lag(\"close\",5).over(w_temporal)) / F.lag(\"close\",5).over(w_temporal)).\\\n",
    "      withColumn(\"roc_10d\", (F.col(\"close\") - F.lag(\"close\",10).over(w_temporal)) / F.lag(\"close\",10).over(w_temporal)).\\\n",
    "      withColumn(\"roc_20d\", (F.col(\"close\") - F.lag(\"close\",20).over(w_temporal)) / F.lag(\"close\",20).over(w_temporal)).\\\n",
    "      withColumn(\"roc_50d\", (F.col(\"close\") - F.lag(\"close\",50).over(w_temporal)) / F.lag(\"close\",50).over(w_temporal)).\\\n",
    "      withColumn(\"roc_100d\", (F.col(\"close\") - F.lag(\"close\",100).over(w_temporal)) / F.lag(\"close\",100).over(w_temporal)).\\\n",
    "      withColumn(\"roc_200d\", (F.col(\"close\") - F.lag(\"close\",200).over(w_temporal)) / F.lag(\"close\",200).over(w_temporal))\n"
   ]
  },
  {
   "cell_type": "code",
   "execution_count": 9,
   "metadata": {
    "id": "pI28I39dUKAD"
   },
   "outputs": [],
   "source": [
    "# Cálculo de medias móviles (MA), momentum (diferencia con las MA) y Bollinger Bands:\n",
    "df_amzn_ma = df_amzn_ratios.\\\n",
    "      withColumn(\"ma_5d\", F.avg(\"close\").over(Window.orderBy(\"date\").rowsBetween(-5, 0))).\\\n",
    "      withColumn(\"ma_10d\", F.avg(\"close\").over(Window.orderBy(\"date\").rowsBetween(-9, 0))).\\\n",
    "      withColumn(\"ma_20d\", F.avg(\"close\").over(Window.orderBy(\"date\").rowsBetween(-19, 0))).\\\n",
    "      withColumn(\"ma_50d\", F.avg(\"close\").over(Window.orderBy(\"date\").rowsBetween(-49, 0))).\\\n",
    "      withColumn(\"ma_100d\", F.avg(\"close\").over(Window.orderBy(\"date\").rowsBetween(-99, 0))).\\\n",
    "      withColumn(\"ma_200d\", F.avg(\"close\").over(Window.orderBy(\"date\").rowsBetween(-199, 0))).\\\n",
    "      withColumn(\"std_20\", F.stddev(\"close\").over(Window.orderBy(\"date\").rowsBetween(-19, 0))).\\\n",
    "      withColumn(\"boll_upper_20d\", F.col(\"ma_20d\") + 2 * F.col(\"std_20\")).\\\n",
    "      withColumn(\"boll_lower_20d\", F.col(\"ma_20d\") - 2 * F.col(\"std_20\")).\\\n",
    "      drop(\"std_20\")"
   ]
  },
  {
   "cell_type": "code",
   "execution_count": 10,
   "metadata": {
    "id": "dKwb84rmxnsJ"
   },
   "outputs": [],
   "source": [
    "# Cálculo del z-score de cierre, indica cómo de \"extremo\" es el precio\n",
    "df_amzn_zscore = df_amzn_ma.\\\n",
    "      withColumn(\"std_5d\", F.stddev(\"close\").over(Window.orderBy(\"date\").rowsBetween(-4, 0))).\\\n",
    "      withColumn(\"std_10d\", F.stddev(\"close\").over(Window.orderBy(\"date\").rowsBetween(-9, 0))).\\\n",
    "      withColumn(\"std_20d\", F.stddev(\"close\").over(Window.orderBy(\"date\").rowsBetween(-19, 0))).\\\n",
    "      withColumn(\"std_50d\", F.stddev(\"close\").over(Window.orderBy(\"date\").rowsBetween(-49, 0))).\\\n",
    "      withColumn(\"std_100d\", F.stddev(\"close\").over(Window.orderBy(\"date\").rowsBetween(-99, 0))).\\\n",
    "      withColumn(\"std_200d\", F.stddev(\"close\").over(Window.orderBy(\"date\").rowsBetween(-199, 0))).\\\n",
    "      withColumn(\"zscore_5d\", F.when(F.col(\"std_5d\")!=0, (F.col(\"close\") - F.col(\"ma_5d\")) / F.col(\"std_5d\")).otherwise(None)).\\\n",
    "      withColumn(\"zscore_10d\", F.when(F.col(\"std_10d\")!=0, (F.col(\"close\") - F.col(\"ma_10d\")) / F.col(\"std_10d\")).otherwise(None)).\\\n",
    "      withColumn(\"zscore_20d\", F.when(F.col(\"std_20d\")!=0, (F.col(\"close\") - F.col(\"ma_20d\")) / F.col(\"std_20d\")).otherwise(None)).\\\n",
    "      withColumn(\"zscore_50d\", F.when(F.col(\"std_50d\")!=0, (F.col(\"close\") - F.col(\"ma_50d\")) / F.col(\"std_50d\")).otherwise(None)).\\\n",
    "      withColumn(\"zscore_100d\", F.when(F.col(\"std_100d\")!=0, (F.col(\"close\") - F.col(\"ma_100d\")) / F.col(\"std_100d\")).otherwise(None)).\\\n",
    "      withColumn(\"zscore_200d\", F.when(F.col(\"std_200d\")!=0, (F.col(\"close\") - F.col(\"ma_200d\")) / F.col(\"std_200d\")).otherwise(None)).\\\n",
    "      drop(\"std_5d\", \"std_10d\", \"std_20d\", \"std_50d\", \"std_100d\", \"std_200d\")"
   ]
  },
  {
   "cell_type": "code",
   "execution_count": 11,
   "metadata": {
    "id": "qxL-4cTwnvC9"
   },
   "outputs": [],
   "source": [
    "# Relaciones entre medias móviles:\n",
    "# Diferencia entre las medias móviles (MA Crossovers) para incluir la relación entre estos indicadores\n",
    "df_amzn_ma_rel = df_amzn_zscore.\\\n",
    "      withColumn(\"ma_10d_vs_20d\", F.col(\"ma_20d\") - F.col(\"ma_10d\")).\\\n",
    "      withColumn(\"ma_20d_vs_50d\", F.col(\"ma_50d\") - F.col(\"ma_20d\")).\\\n",
    "      withColumn(\"ma_50d_vs_100d\", F.col(\"ma_100d\") - F.col(\"ma_50d\")).\\\n",
    "      withColumn(\"ma_100d_vs_200d\", F.col(\"ma_200d\") - F.col(\"ma_100d\")).\\\n",
    "      withColumn(\"cross_ma_10d_vs_20d\", F.when(F.col(\"ma_10d\") > F.col(\"ma_20d\"), 1).otherwise(0)).\\\n",
    "      withColumn(\"cross_ma_20d_vs_50d\", F.when(F.col(\"ma_20d\") > F.col(\"ma_50d\"), 1).otherwise(0)).\\\n",
    "      withColumn(\"cross_ma_50d_vs_100d\", F.when(F.col(\"ma_50d\") > F.col(\"ma_100d\"), 1).otherwise(0)).\\\n",
    "      withColumn(\"cross_ma_100d_vs_200d\", F.when(F.col(\"ma_100d\") > F.col(\"ma_200d\"), 1).otherwise(0))"
   ]
  },
  {
   "cell_type": "markdown",
   "metadata": {
    "id": "JVlSY64EwWyx"
   },
   "source": [
    "## Volatilidad"
   ]
  },
  {
   "cell_type": "code",
   "execution_count": 12,
   "metadata": {
    "id": "8l_ycEX5T-6A"
   },
   "outputs": [],
   "source": [
    "# Cálculo de la volatilidad:\n",
    "w_volatilidad = Window.orderBy(\"date\").rowsBetween(-5, 0)\n",
    "df_amzn_vol = df_amzn_ma_rel.\\\n",
    "      withColumn(\"volatility_5d\", F.stddev(\"close\").over(Window.orderBy(\"date\").rowsBetween(-4, 0))).\\\n",
    "      withColumn(\"volatility_10d\", F.stddev(\"close\").over(Window.orderBy(\"date\").rowsBetween(-9, 0))).\\\n",
    "      withColumn(\"volatility_20d\", F.stddev(\"close\").over(Window.orderBy(\"date\").rowsBetween(-19, 0)))"
   ]
  },
  {
   "cell_type": "code",
   "execution_count": 13,
   "metadata": {
    "id": "5289fHTvrPu0"
   },
   "outputs": [],
   "source": [
    "# Volatilidad diaria (ATR- Average True Range):\n",
    "df_amzn_atr = df_amzn_vol.\\\n",
    "      withColumn(\"high_low\", F.col(\"high\") - F.col(\"low\")).\\\n",
    "      withColumn(\"high_prev_close\", F.abs(F.col(\"high\") - F.lag(\"close\",1).over(w_temporal))).\\\n",
    "      withColumn(\"low_prev_close\", F.abs(F.col(\"low\") - F.lag(\"close\",1).over(w_temporal))).\\\n",
    "      withColumn(\"true_range\", F.greatest(\"high_low\", \"high_prev_close\", \"low_prev_close\")).\\\n",
    "      withColumn(\"atr_7d\", F.avg(\"true_range\").over(Window.orderBy(\"date\").rowsBetween(-6, 0))).\\\n",
    "      withColumn(\"atr_14d\", F.avg(\"true_range\").over(Window.orderBy(\"date\").rowsBetween(-13, 0))).\\\n",
    "      withColumn(\"atr_21d\", F.avg(\"true_range\").over(Window.orderBy(\"date\").rowsBetween(-20, 0))).\\\n",
    "      drop(\"high_low\", \"high_prev_close\", \"low_prev_close\", \"true_range\")"
   ]
  },
  {
   "cell_type": "code",
   "execution_count": 14,
   "metadata": {
    "id": "J3QCXNPkz_aG"
   },
   "outputs": [],
   "source": [
    "# Diferencia entre open y close anterior (movimiento nocturno)\n",
    "df_amzn_gap = df_amzn_atr.\\\n",
    "      withColumn(\"gap_open\", F.col(\"open\") - F.lag(\"close\", 1).over(w_temporal)).\\\n",
    "      withColumn(\"gap_pct\", (F.col(\"gap_open\"))/ F.lag(\"close\", 1).over(w_temporal))"
   ]
  },
  {
   "cell_type": "markdown",
   "metadata": {
    "id": "ELiCGp5Fwdlh"
   },
   "source": [
    "## Volumen"
   ]
  },
  {
   "cell_type": "code",
   "execution_count": 15,
   "metadata": {
    "id": "oIThq02YVmKF"
   },
   "outputs": [],
   "source": [
    "# Volumen:\n",
    "df_amzn_vol = df_amzn_gap.\\\n",
    "    withColumn(\"volume_avg_5d\", F.avg(\"volume\").over(Window.orderBy(\"date\").rowsBetween(-4, 0))).\\\n",
    "    withColumn(\"volume_avg_10d\", F.avg(\"volume\").over(Window.orderBy(\"date\").rowsBetween(-9, 0))).\\\n",
    "    withColumn(\"volume_avg_20d\", F.avg(\"volume\").over(Window.orderBy(\"date\").rowsBetween(-19, 0))).\\\n",
    "    withColumn(\"volume_ratio_5d\", F.col(\"volume\") / F.col(\"volume_avg_5d\")).\\\n",
    "    withColumn(\"volume_ratio_10d\", F.col(\"volume\") / F.col(\"volume_avg_10d\")).\\\n",
    "    withColumn(\"volume_ratio_20d\", F.col(\"volume\") / F.col(\"volume_avg_20d\"))"
   ]
  },
  {
   "cell_type": "code",
   "execution_count": 16,
   "metadata": {
    "id": "qn4ufy1Nt88B"
   },
   "outputs": [],
   "source": [
    "# Money flow:\n",
    "df_amzn_mf = df_amzn_vol.withColumn(\"money_flow\", (F.col(\"close\")-F.col(\"low\")) - (F.col(\"high\")-F.col(\"close\")) * F.col(\"volume\"))"
   ]
  },
  {
   "cell_type": "markdown",
   "metadata": {
    "id": "zykYpL7KwhNa"
   },
   "source": [
    "## Momentum y osciladores"
   ]
  },
  {
   "cell_type": "code",
   "execution_count": 17,
   "metadata": {
    "id": "xSfJ6Bnwf-uz"
   },
   "outputs": [],
   "source": [
    "# RSI (Relative Strength Index - 7, 14 y 21 días):\n",
    "df_amzn_rsi = df_amzn_mf.withColumn(\"delta\", F.col(\"close\") - F.lag(\"close\", 1).over(w_temporal)).\\\n",
    "    withColumn(\"gain\", F.when(F.col(\"delta\") > 0, F.col(\"delta\")).otherwise(0)).\\\n",
    "    withColumn(\"loss\", F.when(F.col(\"delta\") < 0, -F.col(\"delta\")).otherwise(0)).\\\n",
    "    withColumn(\"avg_gain_7d\", F.avg(\"gain\").over(Window.orderBy(\"date\").rowsBetween(-6, 0))).\\\n",
    "    withColumn(\"avg_loss_7d\", F.avg(\"loss\").over(Window.orderBy(\"date\").rowsBetween(-6, 0))).\\\n",
    "    withColumn(\"avg_gain_14d\", F.avg(\"gain\").over(Window.orderBy(\"date\").rowsBetween(-13, 0))).\\\n",
    "    withColumn(\"avg_loss_14d\", F.avg(\"loss\").over(Window.orderBy(\"date\").rowsBetween(-13, 0))).\\\n",
    "    withColumn(\"avg_gain_21d\", F.avg(\"gain\").over(Window.orderBy(\"date\").rowsBetween(-20, 0))).\\\n",
    "    withColumn(\"avg_loss_21d\", F.avg(\"loss\").over(Window.orderBy(\"date\").rowsBetween(-20, 0))).\\\n",
    "    withColumn(\"rs_7d\", F.col(\"avg_gain_7d\") / (F.col(\"avg_loss_7d\")+ 1e-10)).\\\n",
    "    withColumn(\"rs_14d\", F.col(\"avg_gain_14d\") / (F.col(\"avg_loss_14d\")+ 1e-10)).\\\n",
    "    withColumn(\"rs_21d\", F.col(\"avg_gain_21d\") / (F.col(\"avg_loss_21d\")+ 1e-10)).\\\n",
    "    withColumn(\"rsi_7d\", 100 - (100 / (1 + F.col(\"rs_7d\")))).\\\n",
    "    withColumn(\"rsi_14d\", 100 - (100 / (1 + F.col(\"rs_14d\")))).\\\n",
    "    withColumn(\"rsi_21d\", 100 - (100 / (1 + F.col(\"rs_21d\")))).\\\n",
    "    select(*df_amzn_mf.columns + [\"rsi_7d\",\"rsi_14d\",\"rsi_21d\"])\n"
   ]
  },
  {
   "cell_type": "code",
   "execution_count": 18,
   "metadata": {
    "id": "hZ49zACdoe_p"
   },
   "outputs": [],
   "source": [
    "# Cambios en el RSI para identificar momentos de aceleración o reversión\n",
    "df_amzn_rsi_rel = df_amzn_rsi.\\\n",
    "    withColumn(\"change_rsi_7d\", F.col(\"rsi_7d\") - F.lag(\"rsi_7d\",1).over(w_temporal)).\\\n",
    "    withColumn(\"change_rsi_14d\", F.col(\"rsi_14d\") - F.lag(\"rsi_14d\",1).over(w_temporal)).\\\n",
    "    withColumn(\"change_rsi_21d\", F.col(\"rsi_21d\") - F.lag(\"rsi_21d\",1).over(w_temporal))"
   ]
  },
  {
   "cell_type": "code",
   "execution_count": 19,
   "metadata": {
    "id": "LKhxjqJ29eRS"
   },
   "outputs": [],
   "source": [
    "# Calculamos el indicador de Williams %R para distintas ventanas temporales\n",
    "# También calculamos el oscilador estocástico %K (similar a Williams %R pero más suave)\n",
    "df_amzn_ind = df_amzn_rsi_rel.\\\n",
    "      withColumn(\"max_high_7d\", F.max(\"high\").over(Window.orderBy(\"date\").rowsBetween(-6, 0))).\\\n",
    "      withColumn(\"max_high_14d\", F.max(\"high\").over(Window.orderBy(\"date\").rowsBetween(-13, 0))).\\\n",
    "      withColumn(\"max_high_21d\", F.max(\"high\").over(Window.orderBy(\"date\").rowsBetween(-20, 0))).\\\n",
    "      withColumn(\"min_low_7d\", F.min(\"low\").over(Window.orderBy(\"date\").rowsBetween(-6, 0))).\\\n",
    "      withColumn(\"min_low_14d\", F.min(\"low\").over(Window.orderBy(\"date\").rowsBetween(-13, 0))).\\\n",
    "      withColumn(\"min_low_21d\", F.min(\"low\").over(Window.orderBy(\"date\").rowsBetween(-20, 0))).\\\n",
    "    withColumn(\"williams_r_7d\", ((F.col(\"max_high_7d\") - F.col(\"close\")) / (F.col(\"max_high_7d\") - F.col(\"min_low_7d\"))) * -100).\\\n",
    "    withColumn(\"williams_r_14d\", ((F.col(\"max_high_14d\") - F.col(\"close\")) / (F.col(\"max_high_14d\") - F.col(\"min_low_14d\"))) * -100).\\\n",
    "    withColumn(\"williams_r_21d\", ((F.col(\"max_high_21d\") - F.col(\"close\")) / (F.col(\"max_high_21d\") - F.col(\"min_low_21d\"))) * -100).\\\n",
    "    withColumn(\"eo_k_7d\", ((F.col(\"close\") - F.col(\"min_low_7d\")) / (F.col(\"max_high_7d\") - F.col(\"min_low_7d\"))) * 100).\\\n",
    "    withColumn(\"eo_k_14d\", ((F.col(\"close\") - F.col(\"min_low_14d\")) / (F.col(\"max_high_14d\") - F.col(\"min_low_14d\"))) * 100).\\\n",
    "    withColumn(\"eo_k_21d\", ((F.col(\"close\") - F.col(\"min_low_21d\")) / (F.col(\"max_high_21d\") - F.col(\"min_low_21d\"))) * 100).\\\n",
    "    select(*df_amzn_rsi_rel.columns + [\"williams_r_7d\", \"williams_r_14d\", \"williams_r_21d\", \"eo_k_7d\", \"eo_k_14d\", \"eo_k_21d\"])"
   ]
  },
  {
   "cell_type": "markdown",
   "metadata": {
    "id": "o9OV6Uspwsht"
   },
   "source": [
    "## Temporal"
   ]
  },
  {
   "cell_type": "code",
   "execution_count": 20,
   "metadata": {
    "id": "89b5VlnZtAgV"
   },
   "outputs": [],
   "source": [
    "# Añadimos algunas variables temporales\n",
    "df_amzn_tmp = df_amzn_ind.\\\n",
    "      withColumn(\"day_of_week\", F.dayofweek(\"date\")).\\\n",
    "      withColumn(\"day_of_month\", F.dayofmonth(\"date\")).\\\n",
    "      withColumn(\"month\", F.month(\"date\")).\\\n",
    "      withColumn(\"week_of_year\", F.weekofyear(\"date\"))"
   ]
  },
  {
   "cell_type": "markdown",
   "metadata": {
    "id": "-bcz6FomxK1n"
   },
   "source": [
    "# Output"
   ]
  },
  {
   "cell_type": "code",
   "execution_count": 21,
   "metadata": {
    "colab": {
     "base_uri": "https://localhost:8080/"
    },
    "executionInfo": {
     "elapsed": 8,
     "status": "ok",
     "timestamp": 1748194403320,
     "user": {
      "displayName": "Laura Lozano",
      "userId": "03845009722760732187"
     },
     "user_tz": -120
    },
    "id": "l6uiSPkevapR",
    "outputId": "e98d3599-daa6-4a3a-8d31-2e17ac2c6b68"
   },
   "outputs": [
    {
     "data": {
      "text/plain": [
       "66"
      ]
     },
     "execution_count": 21,
     "metadata": {},
     "output_type": "execute_result"
    }
   ],
   "source": [
    "len(df_amzn_tmp.columns)"
   ]
  },
  {
   "cell_type": "code",
   "execution_count": 22,
   "metadata": {
    "id": "6jQFNvEK147S"
   },
   "outputs": [
    {
     "name": "stderr",
     "output_type": "stream",
     "text": [
      "25/06/07 10:18:07 WARN WindowExec: No Partition Defined for Window operation! Moving all data to a single partition, this can cause serious performance degradation.\n",
      "25/06/07 10:18:07 WARN WindowExec: No Partition Defined for Window operation! Moving all data to a single partition, this can cause serious performance degradation.\n",
      "25/06/07 10:18:07 WARN WindowExec: No Partition Defined for Window operation! Moving all data to a single partition, this can cause serious performance degradation.\n",
      "25/06/07 10:18:07 WARN WindowExec: No Partition Defined for Window operation! Moving all data to a single partition, this can cause serious performance degradation.\n",
      "25/06/07 10:18:07 WARN WindowExec: No Partition Defined for Window operation! Moving all data to a single partition, this can cause serious performance degradation.\n",
      "25/06/07 10:18:07 WARN WindowExec: No Partition Defined for Window operation! Moving all data to a single partition, this can cause serious performance degradation.\n",
      "25/06/07 10:18:07 WARN WindowExec: No Partition Defined for Window operation! Moving all data to a single partition, this can cause serious performance degradation.\n",
      "25/06/07 10:18:07 WARN WindowExec: No Partition Defined for Window operation! Moving all data to a single partition, this can cause serious performance degradation.\n",
      "25/06/07 10:18:07 WARN WindowExec: No Partition Defined for Window operation! Moving all data to a single partition, this can cause serious performance degradation.\n",
      "25/06/07 10:18:07 WARN WindowExec: No Partition Defined for Window operation! Moving all data to a single partition, this can cause serious performance degradation.\n",
      "25/06/07 10:18:07 WARN WindowExec: No Partition Defined for Window operation! Moving all data to a single partition, this can cause serious performance degradation.\n",
      "25/06/07 10:18:07 WARN package: Truncated the string representation of a plan since it was too large. This behavior can be adjusted by setting 'spark.sql.debug.maxToStringFields'.\n",
      "25/06/07 10:18:08 WARN WindowExec: No Partition Defined for Window operation! Moving all data to a single partition, this can cause serious performance degradation.\n",
      "25/06/07 10:18:08 WARN WindowExec: No Partition Defined for Window operation! Moving all data to a single partition, this can cause serious performance degradation.\n",
      "25/06/07 10:18:08 WARN WindowExec: No Partition Defined for Window operation! Moving all data to a single partition, this can cause serious performance degradation.\n",
      "25/06/07 10:18:08 WARN WindowExec: No Partition Defined for Window operation! Moving all data to a single partition, this can cause serious performance degradation.\n",
      "25/06/07 10:18:08 WARN WindowExec: No Partition Defined for Window operation! Moving all data to a single partition, this can cause serious performance degradation.\n",
      "25/06/07 10:18:08 WARN WindowExec: No Partition Defined for Window operation! Moving all data to a single partition, this can cause serious performance degradation.\n",
      "25/06/07 10:18:08 WARN WindowExec: No Partition Defined for Window operation! Moving all data to a single partition, this can cause serious performance degradation.\n",
      "25/06/07 10:18:08 WARN WindowExec: No Partition Defined for Window operation! Moving all data to a single partition, this can cause serious performance degradation.\n",
      "25/06/07 10:18:08 WARN WindowExec: No Partition Defined for Window operation! Moving all data to a single partition, this can cause serious performance degradation.\n",
      "25/06/07 10:18:08 WARN WindowExec: No Partition Defined for Window operation! Moving all data to a single partition, this can cause serious performance degradation.\n",
      "                                                                                \r"
     ]
    }
   ],
   "source": [
    "# Guardamos los datos tras realizar el feature engineering\n",
    "df_amzn_tmp.write.mode(\"overwrite\").format(\"parquet\").save(f\"{path_datos}/datos_financieros_amzn_trat\")"
   ]
  },
  {
   "cell_type": "code",
   "execution_count": 24,
   "metadata": {
    "colab": {
     "base_uri": "https://localhost:8080/"
    },
    "executionInfo": {
     "elapsed": 3140,
     "status": "ok",
     "timestamp": 1748194410734,
     "user": {
      "displayName": "Laura Lozano",
      "userId": "03845009722760732187"
     },
     "user_tz": -120
    },
    "id": "cGky8VG3_Xjm",
    "outputId": "c28732b3-7e2c-4226-d91b-b456276010c2"
   },
   "outputs": [
    {
     "name": "stderr",
     "output_type": "stream",
     "text": [
      "                                                                                \r"
     ]
    },
    {
     "data": {
      "text/plain": [
       "6309"
      ]
     },
     "execution_count": 24,
     "metadata": {},
     "output_type": "execute_result"
    }
   ],
   "source": [
    "df_amzn_tmp.count()"
   ]
  }
 ],
 "metadata": {
  "colab": {
   "provenance": [
    {
     "file_id": "1LucKRwZaD6xs-Og-qjhRW05cY2BfXFk_",
     "timestamp": 1666188685917
    }
   ]
  },
  "kernelspec": {
   "display_name": "PySpark",
   "language": "python",
   "name": "pyspark"
  },
  "language_info": {
   "codemirror_mode": {
    "name": "ipython",
    "version": 3
   },
   "file_extension": ".py",
   "mimetype": "text/x-python",
   "name": "python",
   "nbconvert_exporter": "python",
   "pygments_lexer": "ipython3",
   "version": "3.10.8"
  }
 },
 "nbformat": 4,
 "nbformat_minor": 4
}